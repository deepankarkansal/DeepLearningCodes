{
  "nbformat": 4,
  "nbformat_minor": 0,
  "metadata": {
    "colab": {
      "name": "Copy of DL_A4_Q2.ipynb",
      "provenance": [],
      "collapsed_sections": [
        "uU7GwLImTs3A",
        "APd0LR1HjsYU",
        "4BsVF7SrUYBB",
        "xjN5iPoIUAF6",
        "Tr7O3kP8UDZJ",
        "dW6uhhNeUF7o",
        "TZTvAQYjUKhM",
        "MpCX6bb2E76A"
      ]
    },
    "kernelspec": {
      "name": "python3",
      "display_name": "Python 3"
    },
    "language_info": {
      "name": "python"
    },
    "accelerator": "GPU"
  },
  "cells": [
    {
      "cell_type": "markdown",
      "metadata": {
        "id": "uU7GwLImTs3A"
      },
      "source": [
        "# Mount the drive"
      ]
    },
    {
      "cell_type": "code",
      "metadata": {
        "colab": {
          "base_uri": "https://localhost:8080/"
        },
        "id": "G3aqC0YQTnZ0",
        "outputId": "7909e9ac-4ee7-4d33-a7fb-ed29b4d6e8cf"
      },
      "source": [
        "from google.colab import drive\n",
        "drive.mount('/content/drive')"
      ],
      "execution_count": 1,
      "outputs": [
        {
          "output_type": "stream",
          "text": [
            "Mounted at /content/drive\n"
          ],
          "name": "stdout"
        }
      ]
    },
    {
      "cell_type": "markdown",
      "metadata": {
        "id": "APd0LR1HjsYU"
      },
      "source": [
        "# Import Libraries"
      ]
    },
    {
      "cell_type": "code",
      "metadata": {
        "id": "vyFyaw1Fx_wj"
      },
      "source": [
        "import xml.etree.ElementTree as ET\n",
        "import pandas as pd\n",
        "import pandas as pd\n",
        "import joblib\n",
        "import keras\n",
        "import tensorflow as tf\n",
        "import os\n",
        "import time\n",
        "import math\n",
        "import keras\n",
        "from keras.models import Input, Model\n",
        "from keras.layers import Dense, LSTM, Embedding\n",
        "from keras.layers import Layer\n",
        "import keras.backend as K\n",
        "from sklearn.model_selection import train_test_split\n",
        "from keras.models import Sequential, load_model\n",
        "from keras import layers\n",
        "from keras.utils import np_utils\n",
        "from sklearn.metrics import confusion_matrix\n",
        "import seaborn as sns\n",
        "from keras.preprocessing.text import Tokenizer\n",
        "from sklearn.preprocessing import LabelEncoder\n",
        "import matplotlib.pyplot as plt\n",
        "from keras.preprocessing.sequence import pad_sequences\n",
        "from tensorflow.keras.constraints import max_norm\n",
        "from sklearn import metrics\n",
        "from scipy import interp\n",
        "from keras.models import Model"
      ],
      "execution_count": 2,
      "outputs": []
    },
    {
      "cell_type": "code",
      "metadata": {
        "id": "RX06rybIsqVO"
      },
      "source": [
        "import numpy as np\n",
        "import gensim\n",
        "from gensim.corpora import WikiCorpus\n",
        "from gensim.models import KeyedVectors\n",
        "list_emotions = ['negative', 'neutral', 'positive']"
      ],
      "execution_count": 3,
      "outputs": []
    },
    {
      "cell_type": "code",
      "metadata": {
        "colab": {
          "base_uri": "https://localhost:8080/"
        },
        "id": "IJmJ-dxysn13",
        "outputId": "f2936122-5275-4a3e-e2f6-543ba1ce8c34"
      },
      "source": [
        "import nltk\n",
        "nltk.download('punkt')\n",
        "nltk.download('averaged_perceptron_tagger')\n",
        "nltk.download('wordnet')\n",
        "nltk.download('stopwords')\n",
        "from nltk.stem import WordNetLemmatizer \n",
        "import re\n",
        "from nltk.tokenize import word_tokenize\n",
        "from nltk.corpus import stopwords\n",
        "!pip install contractions\n",
        "import contractions\n",
        "nltk.download('universal_tagset')\n",
        "from nltk.stem.porter import PorterStemmer"
      ],
      "execution_count": 4,
      "outputs": [
        {
          "output_type": "stream",
          "text": [
            "[nltk_data] Downloading package punkt to /root/nltk_data...\n",
            "[nltk_data]   Unzipping tokenizers/punkt.zip.\n",
            "[nltk_data] Downloading package averaged_perceptron_tagger to\n",
            "[nltk_data]     /root/nltk_data...\n",
            "[nltk_data]   Unzipping taggers/averaged_perceptron_tagger.zip.\n",
            "[nltk_data] Downloading package wordnet to /root/nltk_data...\n",
            "[nltk_data]   Unzipping corpora/wordnet.zip.\n",
            "[nltk_data] Downloading package stopwords to /root/nltk_data...\n",
            "[nltk_data]   Unzipping corpora/stopwords.zip.\n",
            "Collecting contractions\n",
            "  Downloading https://files.pythonhosted.org/packages/0a/04/d5e0bb9f2cef5d15616ebf68087a725c5dbdd71bd422bcfb35d709f98ce7/contractions-0.0.48-py2.py3-none-any.whl\n",
            "Collecting textsearch>=0.0.21\n",
            "  Downloading https://files.pythonhosted.org/packages/d3/fe/021d7d76961b5ceb9f8d022c4138461d83beff36c3938dc424586085e559/textsearch-0.0.21-py2.py3-none-any.whl\n",
            "Collecting pyahocorasick\n",
            "\u001b[?25l  Downloading https://files.pythonhosted.org/packages/7f/c2/eae730037ae1cbbfaa229d27030d1d5e34a1e41114b21447d1202ae9c220/pyahocorasick-1.4.2.tar.gz (321kB)\n",
            "\u001b[K     |████████████████████████████████| 327kB 20.1MB/s \n",
            "\u001b[?25hCollecting anyascii\n",
            "\u001b[?25l  Downloading https://files.pythonhosted.org/packages/09/c7/61370d9e3c349478e89a5554c1e5d9658e1e3116cc4f2528f568909ebdf1/anyascii-0.1.7-py3-none-any.whl (260kB)\n",
            "\u001b[K     |████████████████████████████████| 266kB 46.1MB/s \n",
            "\u001b[?25hBuilding wheels for collected packages: pyahocorasick\n",
            "  Building wheel for pyahocorasick (setup.py) ... \u001b[?25l\u001b[?25hdone\n",
            "  Created wheel for pyahocorasick: filename=pyahocorasick-1.4.2-cp37-cp37m-linux_x86_64.whl size=85390 sha256=2e506f3c21c7e359ea68937e700d81f44069611649431ec2c7e67446bd55d754\n",
            "  Stored in directory: /root/.cache/pip/wheels/3a/03/34/77e3ece0bba8b86bfac88a79f923b36d805cad63caeba38842\n",
            "Successfully built pyahocorasick\n",
            "Installing collected packages: pyahocorasick, anyascii, textsearch, contractions\n",
            "Successfully installed anyascii-0.1.7 contractions-0.0.48 pyahocorasick-1.4.2 textsearch-0.0.21\n",
            "[nltk_data] Downloading package universal_tagset to /root/nltk_data...\n",
            "[nltk_data]   Unzipping taggers/universal_tagset.zip.\n"
          ],
          "name": "stdout"
        }
      ]
    },
    {
      "cell_type": "markdown",
      "metadata": {
        "id": "NfF12oCiT-_7"
      },
      "source": [
        "# Make data"
      ]
    },
    {
      "cell_type": "code",
      "metadata": {
        "id": "1seNy-D8v4VL"
      },
      "source": [
        "def makeDF(path):\n",
        "  tree = ET.parse(path)\n",
        "  root = tree.getroot()\n",
        "  df=pd.DataFrame(columns=['context','target','output'])\n",
        "  for sentence in root:\n",
        "    for subelem in sentence:  \n",
        "        if len(subelem.text) >13 :\n",
        "          tt= subelem.text\n",
        "        for subsub in subelem:\n",
        "          for i in subsub.attrib :\n",
        "            if i == 'term':\n",
        "              newrow={'context' : tt,'target' : subsub.attrib['term'] , 'output' :  subsub.attrib['polarity']}\n",
        "              df = df.append(newrow, ignore_index=True)\n",
        "  return df"
      ],
      "execution_count": null,
      "outputs": []
    },
    {
      "cell_type": "code",
      "metadata": {
        "id": "hWIZCme7iZMN"
      },
      "source": [
        "train_laptop = makeDF('/content/drive/MyDrive/DL/Assignment4/ABSA complete Dataset/ABSA Train/Laptops_Train.xml')\n",
        "test_laptop = makeDF('/content/drive/MyDrive/DL/Assignment4/ABSA complete Dataset/ABSA Test/Laptops_Test_Gold.xml')\n",
        "train_rest = makeDF('/content/drive/MyDrive/DL/Assignment4/ABSA complete Dataset/ABSA Train/Restaurants_Train.xml')\n",
        "test_rest = makeDF('/content/drive/MyDrive/DL/Assignment4/ABSA complete Dataset/ABSA Test/Restaurants_Test_Gold.xml')\n",
        "train_laptop.to_csv('/content/drive/MyDrive/DL/Assignment4/train_laptop.csv')\n",
        "test_laptop.to_csv('/content/drive/MyDrive/DL/Assignment4/test_laptop.csv')\n",
        "train_rest.to_csv('/content/drive/MyDrive/DL/Assignment4/train_rest.csv')\n",
        "test_rest.to_csv('/content/drive/MyDrive/DL/Assignment4/test_rest.csv')"
      ],
      "execution_count": null,
      "outputs": []
    },
    {
      "cell_type": "code",
      "metadata": {
        "id": "0eT6q99hqnv1"
      },
      "source": [
        "embeddings_dict = joblib.load('/content/drive/MyDrive/DL/Glove_Embedding')"
      ],
      "execution_count": null,
      "outputs": []
    },
    {
      "cell_type": "code",
      "metadata": {
        "id": "hbHR_5Ae0mB0"
      },
      "source": [
        "embeddings_dict = joblib.load('/content/drive/MyDrive/ML/Group5_MLProject_EndSem/Glove_Embedding')"
      ],
      "execution_count": null,
      "outputs": []
    },
    {
      "cell_type": "code",
      "metadata": {
        "id": "CNU-0VtKsI9A"
      },
      "source": [
        "def max_length_sentence(data):\n",
        "  # dictionary_final = []\n",
        "  max = 0\n",
        "  for s in data:\n",
        "    words = preprocessing(s)\n",
        "    if max < len(words):\n",
        "      max = len(words)\n",
        "    # for word in words:\n",
        "    #   if word not in dictionary_final:\n",
        "    #     dictionary_final.append(word)\n",
        "  return max"
      ],
      "execution_count": null,
      "outputs": []
    },
    {
      "cell_type": "code",
      "metadata": {
        "colab": {
          "base_uri": "https://localhost:8080/"
        },
        "id": "VpFZQOEotHX9",
        "outputId": "10e09f89-2fe0-46bc-f542-da723402d7fa"
      },
      "source": [
        "max_sentence = max_length_sentence(train_rest['target'])\n",
        "print(max_sentence)"
      ],
      "execution_count": null,
      "outputs": [
        {
          "output_type": "stream",
          "text": [
            "14\n"
          ],
          "name": "stdout"
        }
      ]
    },
    {
      "cell_type": "code",
      "metadata": {
        "colab": {
          "base_uri": "https://localhost:8080/"
        },
        "id": "jzET8dXVs47m",
        "outputId": "a87d3381-04de-43b7-bfc2-68fee3b65e15"
      },
      "source": [
        "max_sentence = max_length_sentence(train_rest['context'])\n",
        "print(max_sentence)"
      ],
      "execution_count": null,
      "outputs": [
        {
          "output_type": "stream",
          "text": [
            "33\n"
          ],
          "name": "stdout"
        }
      ]
    },
    {
      "cell_type": "code",
      "metadata": {
        "colab": {
          "base_uri": "https://localhost:8080/"
        },
        "id": "uO-gG4x85Vp0",
        "outputId": "8eec1a3d-5358-42ca-87f9-17a997380723"
      },
      "source": [
        "max_sentence = max_length_sentence(test_rest['context'])\n",
        "print(max_sentence)"
      ],
      "execution_count": null,
      "outputs": [
        {
          "output_type": "stream",
          "text": [
            "31\n"
          ],
          "name": "stdout"
        }
      ]
    },
    {
      "cell_type": "code",
      "metadata": {
        "colab": {
          "base_uri": "https://localhost:8080/"
        },
        "id": "hyU9wTL4tD55",
        "outputId": "5152b0a3-4ce8-4fa0-c7dc-71121d3102f0"
      },
      "source": [
        "max_sentence = max_length_sentence(train_laptop['target'])\n",
        "print(max_sentence)"
      ],
      "execution_count": null,
      "outputs": [
        {
          "output_type": "stream",
          "text": [
            "6\n"
          ],
          "name": "stdout"
        }
      ]
    },
    {
      "cell_type": "code",
      "metadata": {
        "colab": {
          "base_uri": "https://localhost:8080/"
        },
        "id": "-dk13VMpyV8_",
        "outputId": "e4f1d2ed-dd79-4a7e-dc05-294e20541eec"
      },
      "source": [
        "max_sentence = max_length_sentence(test_laptop['target'])\n",
        "print(max_sentence)"
      ],
      "execution_count": null,
      "outputs": [
        {
          "output_type": "stream",
          "text": [
            "9\n"
          ],
          "name": "stdout"
        }
      ]
    },
    {
      "cell_type": "code",
      "metadata": {
        "colab": {
          "base_uri": "https://localhost:8080/"
        },
        "id": "dSJnD80Ksvsf",
        "outputId": "a13ce4e9-95c6-42fc-9beb-f3ad351c7f8b"
      },
      "source": [
        "max_sentence = max_length_sentence(train_laptop['context'])\n",
        "print(max_sentence)"
      ],
      "execution_count": null,
      "outputs": [
        {
          "output_type": "stream",
          "text": [
            "37\n"
          ],
          "name": "stdout"
        }
      ]
    },
    {
      "cell_type": "code",
      "metadata": {
        "colab": {
          "base_uri": "https://localhost:8080/"
        },
        "id": "L6eOeqOdx93h",
        "outputId": "b9dd3d94-072e-4d06-ff81-989bef5877ec"
      },
      "source": [
        "max_sentence = max_length_sentence(test_laptop['context'])\n",
        "print(max_sentence)"
      ],
      "execution_count": null,
      "outputs": [
        {
          "output_type": "stream",
          "text": [
            "39\n"
          ],
          "name": "stdout"
        }
      ]
    },
    {
      "cell_type": "markdown",
      "metadata": {
        "id": "Ss_L9qcK4kJ7"
      },
      "source": [
        "# Data Loading and Other functions"
      ]
    },
    {
      "cell_type": "code",
      "metadata": {
        "id": "EfPthjae7ozT"
      },
      "source": [
        "# from imblearn.over_sampling import RandomOverSampler, SMOTE\n",
        "# def equilising(data, data_target, y_t):\n",
        "#   ros = RandomOverSampler(random_state = 42) \n",
        "#   X_res, y_res = ros.fit_resample(data, y_t)\n",
        "#   X_res_target, _ = ros.fit_resample(data_target, y_t)\n",
        "#   return X_res, X_res_target, y_res"
      ],
      "execution_count": 5,
      "outputs": []
    },
    {
      "cell_type": "code",
      "metadata": {
        "id": "uPZa45hH8RxG"
      },
      "source": [
        "# X_train_padded1, X_train_padded_target1, y_train_rest1 = equilising(X_train_padded, X_train_padded_target, y_train_rest)"
      ],
      "execution_count": 6,
      "outputs": []
    },
    {
      "cell_type": "code",
      "metadata": {
        "id": "FbeA6pT_EGkB"
      },
      "source": [
        "rest_glove = joblib.load('/content/drive/MyDrive/DL/Assignment_4/restaurant_GloVe')\n",
        "laptop_glove = joblib.load('/content/drive/MyDrive/DL/Assignment_4/laptop_GloVe')"
      ],
      "execution_count": 7,
      "outputs": []
    },
    {
      "cell_type": "code",
      "metadata": {
        "id": "FeVHiw88-WcQ"
      },
      "source": [
        "laptop_glove_target = joblib.load('/content/drive/MyDrive/DL/Assignment_4/laptop_GloVe_target')\n",
        "rest_glove_target = joblib.load('/content/drive/MyDrive/DL/Assignment_4/restaurant_GloVe_target')"
      ],
      "execution_count": 8,
      "outputs": []
    },
    {
      "cell_type": "code",
      "metadata": {
        "id": "0NPL9-3Izfu8"
      },
      "source": [
        "train_laptop = pd.read_csv('/content/drive/MyDrive/DL/Assignment_4/train_laptop.csv')\n",
        "test_laptop = pd.read_csv('/content/drive/MyDrive/DL/Assignment_4/test_laptop.csv')\n",
        "train_rest = pd.read_csv('/content/drive/MyDrive/DL/Assignment_4/train_rest.csv')\n",
        "test_rest = pd.read_csv('/content/drive/MyDrive/DL/Assignment_4/test_rest.csv')"
      ],
      "execution_count": 9,
      "outputs": []
    },
    {
      "cell_type": "code",
      "metadata": {
        "id": "lVz8KFdIAY2u"
      },
      "source": [
        "def simplify(df,y):\n",
        "  corpus = []\n",
        "  for i in range(0, y.size):\n",
        "    review = re.sub('[^a-zA-Z0-9]', ' ', str(df[i]))\n",
        "    review = review.lower()\n",
        "    review = review.split(' ')\n",
        "    review = ' '.join(review)\n",
        "    corpus.append(review)\n",
        "  return corpus"
      ],
      "execution_count": 10,
      "outputs": []
    },
    {
      "cell_type": "code",
      "metadata": {
        "id": "n6DAVWXn_Te2"
      },
      "source": [
        "def preprocessing(corpus_train, corpus_test, embeddings_dict, max_sentence_length=40):\n",
        "\n",
        "  t = Tokenizer()\n",
        "  t.fit_on_texts(corpus_train)\n",
        "  vocab_size = len(t.word_index)+1\n",
        "  X_train_encoded = t.texts_to_sequences(corpus_train)\n",
        "  X_test_encoded = t.texts_to_sequences(corpus_test)\n",
        "  X_train_padded = pad_sequences(X_train_encoded,maxlen=max_sentence_length,padding='post')\n",
        "  X_test_padded = pad_sequences(X_test_encoded,maxlen=max_sentence_length,padding='post')\n",
        "  embeddings_matrix = np.zeros((vocab_size,300))\n",
        "  for word,i in t.word_index.items():\n",
        "    embedding_vector = embeddings_dict.get(word)\n",
        "    if embedding_vector is not None:\n",
        "      embeddings_matrix[i] = embedding_vector\n",
        "      \n",
        "  return embeddings_matrix, X_train_padded, X_test_padded, vocab_size"
      ],
      "execution_count": 11,
      "outputs": []
    },
    {
      "cell_type": "markdown",
      "metadata": {
        "id": "LSCINIJE4nR6"
      },
      "source": [
        "# IAN, WithoutAttention and other helper functions  "
      ]
    },
    {
      "cell_type": "code",
      "metadata": {
        "id": "YgY5U84bq1pg"
      },
      "source": [
        "def plotting_epochs(training_, validation_, lossOrAccu, size=(6, 4)):\n",
        "  plt.figure(figsize=size)\n",
        "  plt.plot(training_, 'black', linewidth=2.0)\n",
        "  plt.plot(validation_, 'blue', linewidth=2.0)\n",
        "  plt.legend(['Training '+lossOrAccu, 'Validation '+lossOrAccu], fontsize=14)\n",
        "  plt.xlabel('Epochs', fontsize=10)\n",
        "  plt.ylabel(lossOrAccu, fontsize=10)\n",
        "  plt.title(lossOrAccu+' Curves', fontsize=12)"
      ],
      "execution_count": 13,
      "outputs": []
    },
    {
      "cell_type": "code",
      "metadata": {
        "id": "JGoaEdXN5ZQ1"
      },
      "source": [
        "class WithoutAttention(tf.keras.Model):\n",
        "\n",
        "    def __init__(self, embeddings_matrix=None, embeddings_matrix_target=None, max_aspect_len=10):\n",
        "        super(WithoutAttention, self).__init__()\n",
        "\n",
        "        self.embedding_dim = 300\n",
        "        self.n_hidden = 300\n",
        "        self.n_class = 3\n",
        "        self.l2_reg = 1e-5\n",
        "\n",
        "        self.max_aspect_len = max_aspect_len\n",
        "        self.max_context_len = 40\n",
        "        self.embedding_matrix = embeddings_matrix\n",
        "        self.embedding_matrix_target = embeddings_matrix_target\n",
        "\n",
        "        self.aspect_lstm = tf.keras.layers.LSTM(self.n_hidden,\n",
        "                                                return_sequences=True,\n",
        "                                                recurrent_initializer='glorot_uniform',\n",
        "                                                stateful=True)\n",
        "        self.context_lstm = tf.keras.layers.LSTM(self.n_hidden,\n",
        "                                                 return_sequences=True,\n",
        "                                                 recurrent_initializer='glorot_uniform',\n",
        "                                                 stateful=True)\n",
        "        \n",
        "        self.output_fc = tf.keras.layers.Dense(self.n_class, kernel_regularizer=tf.keras.regularizers.l2(l=self.l2_reg))\n",
        "\n",
        "    \n",
        "    def call(self, data, dropout=0.5):\n",
        "        # print(1)\n",
        "        aspects, contexts, labels, aspect_lens, context_lens = data\n",
        "\n",
        "        aspect_inputs = tf.nn.embedding_lookup(self.embedding_matrix_target, aspects)\n",
        "        aspect_inputs = tf.cast(aspect_inputs, tf.float32)\n",
        "        # aspect_inputs = self.transpose(aspect_inputs)\n",
        "        # print(1)\n",
        "        context_inputs = tf.nn.embedding_lookup(self.embedding_matrix, contexts)\n",
        "        context_inputs = tf.cast(context_inputs, tf.float32)\n",
        "        # context_inputs = self.transpose(context_inputs)\n",
        "        # print(context_inputs.shape, aspect_inputs.shape)\n",
        "        aspect_outputs = self.aspect_lstm(aspect_inputs)\n",
        "        aspect_outputs = tf.nn.max_pool1d(aspect_outputs, 3, 1, \"SAME\")\n",
        "        aspect_outputs = tf.reduce_sum(aspect_outputs, 1)\n",
        "        # print(aspect_avg.shape, aspect_outputs.shape)\n",
        "        context_outputs = self.context_lstm(context_inputs)\n",
        "        context_outputs = tf.nn.max_pool1d(context_outputs, 3, 1, \"SAME\")\n",
        "        \n",
        "        context_outputs = tf.reduce_sum(context_outputs, 1)\n",
        "        # print(context_outputs1.shape)\n",
        "        \n",
        "        rep = tf.concat([aspect_outputs, context_outputs], 1)\n",
        "        predict = self.output_fc(rep)\n",
        "        \n",
        "        return predict, labels, aspect_outputs, context_outputs"
      ],
      "execution_count": 14,
      "outputs": []
    },
    {
      "cell_type": "code",
      "metadata": {
        "id": "AWZSzlTS08tP"
      },
      "source": [
        "class IAN(tf.keras.Model):\n",
        "\n",
        "    def __init__(self, embeddings_matrix=None, embeddings_matrix_target=None, max_aspect_len=10):\n",
        "        super(IAN, self).__init__()\n",
        "\n",
        "        self.embedding_dim = 300\n",
        "        self.n_hidden = 300\n",
        "        self.n_class = 3\n",
        "        self.l2_reg = 1e-5\n",
        "\n",
        "        self.max_aspect_len = max_aspect_len\n",
        "        self.max_context_len = 40\n",
        "        self.embedding_matrix = embeddings_matrix\n",
        "        self.embedding_matrix_target = embeddings_matrix_target\n",
        "\n",
        "        self.aspect_lstm = tf.keras.layers.LSTM(self.n_hidden,\n",
        "                                                return_sequences=True,\n",
        "                                                recurrent_initializer='glorot_uniform',\n",
        "                                                stateful=True)\n",
        "        self.context_lstm = tf.keras.layers.LSTM(self.n_hidden,\n",
        "                                                 return_sequences=True,\n",
        "                                                 recurrent_initializer='glorot_uniform',\n",
        "                                                 stateful=True)\n",
        "        rand_state = np.random.RandomState(42)\n",
        "        self.aspect_w = rand_state.uniform(-.1, .1, [self.n_hidden, self.n_hidden])\n",
        "        self.aspect_b = np.zeros([self.n_hidden]) \n",
        "        self.context_w = rand_state.uniform(-.1, .1, [self.n_hidden, self.n_hidden])\n",
        "        self.context_b = np.zeros([self.n_hidden])\n",
        "        \n",
        "        self.output_fc = tf.keras.layers.Dense(self.n_class, kernel_regularizer=tf.keras.regularizers.l2(l=self.l2_reg))\n",
        "\n",
        "    # def transpose(self, X):\n",
        "    #   new_X = np.full((X.shape[0], X.shape[2], X.shape[1]), 0, dtype=float)\n",
        "    #   for i in range(X.shape[0]):\n",
        "    #     new_X[i] = tf.transpose(X[i])\n",
        "    #   return new_X\n",
        "\n",
        "    # def build(self, input_shape):\n",
        "    #     self.aspect_w = self.add_weight(shape=(self.n_hidden, self.n_hidden),initializer=\"normal\")\n",
        "    #     self.aspect_b = self.add_weight(shape=(self.n_hidden,),initializer=\"zeros\")\n",
        "    #     self.context_w = self.add_weight(shape=(self.n_hidden, self.n_hidden),initializer=\"normal\")\n",
        "    #     self.context_b = self.add_weight(shape=(self.n_hidden,),initializer=\"zeros\")        \n",
        "    #     super(IAN, self).build(input_shape)\n",
        "\n",
        "    def call(self, data, dropout=0.5):\n",
        "        # print(1)\n",
        "        aspects, contexts, labels, aspect_lens, context_lens = data\n",
        "\n",
        "        aspect_inputs = tf.nn.embedding_lookup(self.embedding_matrix_target, aspects)\n",
        "        aspect_inputs = tf.cast(aspect_inputs, tf.float32)\n",
        "        # aspect_inputs = self.transpose(aspect_inputs)\n",
        "        # print(1)\n",
        "        context_inputs = tf.nn.embedding_lookup(self.embedding_matrix, contexts)\n",
        "        context_inputs = tf.cast(context_inputs, tf.float32)\n",
        "        # context_inputs = self.transpose(context_inputs)\n",
        "        # print(context_inputs.shape, aspect_inputs.shape)\n",
        "        aspect_outputs = self.aspect_lstm(aspect_inputs)\n",
        "        aspect_outputs = tf.nn.max_pool1d(aspect_outputs, 3, 1, \"SAME\")\n",
        "        aspect_avg = tf.reduce_mean(aspect_outputs, 1)\n",
        "        # print(aspect_avg.shape, aspect_outputs.shape)\n",
        "        context_outputs = self.context_lstm(context_inputs)\n",
        "        context_outputs = tf.nn.max_pool1d(context_outputs, 3, 1, \"SAME\")\n",
        "        context_avg = tf.reduce_mean(context_outputs, 1)\n",
        "        # context_outputs1 = tf.reduce_sum(context_outputs, 1)\n",
        "        # print(context_outputs1.shape)\n",
        "        aspect_att = tf.nn.softmax(tf.nn.tanh(tf.einsum('ijk,kl,ilm->ijm', aspect_outputs, self.aspect_w,\n",
        "                                                        tf.expand_dims(context_avg, -1)) + self.aspect_b), axis=1)\n",
        "        \n",
        "        aspect_rep = tf.reduce_sum(aspect_att * aspect_outputs, 1)\n",
        "        \n",
        "        context_att = tf.nn.softmax(tf.nn.tanh(tf.einsum('ijk,kl,ilm->ijm', context_outputs, self.context_w,\n",
        "                                                         tf.expand_dims(aspect_avg, -1)) + self.context_b), axis=1)\n",
        "        context_rep = tf.reduce_sum(context_att * context_outputs, 1)\n",
        "        # print(context_rep.shape)\n",
        "        rep = tf.concat([aspect_rep, context_rep], 1)\n",
        "        predict = self.output_fc(rep)\n",
        "        \n",
        "        return predict, labels, aspect_att, context_att"
      ],
      "execution_count": 15,
      "outputs": []
    },
    {
      "cell_type": "code",
      "metadata": {
        "id": "0T0OO-4q1EjT"
      },
      "source": [
        "def run(model, train_data, test_data, stopping_accuracy=0.70, run_only='both'):\n",
        "    \n",
        "    max_acc, step = 0., -1\n",
        "    train_accuracy, test_accuracy, train_loss_list, test_loss_list = [], [], [], [] \n",
        "    train_data_size = len(train_data[0])\n",
        "    train_data = tf.data.Dataset.from_tensor_slices(train_data)\n",
        "    train_data = train_data.shuffle(buffer_size=train_data_size).batch(batch_size, drop_remainder=True)\n",
        "    # print(1)\n",
        "    test_data_size = len(test_data[0])\n",
        "    test_data = tf.data.Dataset.from_tensor_slices(test_data)\n",
        "    test_data = test_data.batch(batch_size, drop_remainder=True)\n",
        "    # print(1)\n",
        "    \n",
        "    optimizer = keras.optimizers.Adam(learning_rate=learning_rate) \n",
        "    \n",
        "    # print(1)\n",
        "    for i in range(n_epoch):\n",
        "        start_time = time.time()\n",
        "        cost, predict_list, labels_list = 0., [], []\n",
        "        if run_only == 'both':\n",
        "          for (iterator, data) in enumerate(train_data):\n",
        "              \n",
        "              # print(type(data))\n",
        "              with tf.GradientTape() as tape:\n",
        "                  predict, labels, aspect_att, context_att = model(data, dropout=0.5)\n",
        "                  \n",
        "                  loss_t = tf.nn.softmax_cross_entropy_with_logits(logits=predict, labels=labels)\n",
        "                  loss = tf.reduce_mean(loss_t)\n",
        "                  cost += tf.reduce_sum(loss_t)\n",
        "                  # print(1)\n",
        "              grads = tape.gradient(loss, model.variables)\n",
        "              optimizer.apply_gradients(zip(grads, model.variables))\n",
        "              predict_list.extend(tf.argmax(tf.nn.softmax(predict), 1).numpy())\n",
        "              labels_list.extend(tf.argmax(labels, 1).numpy())\n",
        "          train_acc, class_train_acc = evaluate(predict_list, labels_list)\n",
        "          train_loss = cost / train_data_size\n",
        "          train_accuracy.append(train_acc)\n",
        "          train_loss_list.append(train_loss)\n",
        "\n",
        "        cost, predict_list, labels_list = 0., [], []\n",
        "\n",
        "        for (iterator, data) in enumerate(test_data):\n",
        "\n",
        "            predict, labels, aspect_att1, context_att1 = model(data, dropout=0.5)\n",
        "            # print(aspect_att1.shape)\n",
        "            loss_t = tf.nn.softmax_cross_entropy_with_logits(logits=predict, labels=labels)\n",
        "            cost += tf.reduce_sum(loss_t)\n",
        "            predict_list.extend(tf.argmax(tf.nn.softmax(predict), 1).numpy())\n",
        "            labels_list.extend(tf.argmax(labels, 1).numpy())\n",
        "            # print(1)\n",
        "        test_acc, class_test_acc = evaluate(predict_list, labels_list)\n",
        "        test_loss = cost / test_data_size\n",
        "        test_accuracy.append(test_acc)\n",
        "        test_loss_list.append(test_loss)\n",
        "        \n",
        "\n",
        "        if test_acc  > max_acc :\n",
        "            max_acc = test_acc\n",
        "            step = i\n",
        "            \n",
        "        end_time = time.time()\n",
        "        if run_only == 'both':\n",
        "          print('Epoch {0:d}/{1:d}'.format(i+1,n_epoch), \": {0:.3f}sec\".format((end_time - start_time)))\n",
        "          print('===============>  train-loss=%.6f; train-acc=%.6f; validation-loss=%.6f; validation-acc=%.6f' % \n",
        "                (train_loss, train_acc, test_loss, test_acc))\n",
        "          print('Classwise train accuracy:', class_train_acc) \n",
        "          print('Classwise test accuracy:', class_test_acc)\n",
        "        \n",
        "        else:\n",
        "          print('Time: {0:.3f}sec'.format((end_time - start_time)))\n",
        "          print('===============>  validation-loss=%.6f; validation-acc=%.6f' % \n",
        "                (test_loss, test_acc))\n",
        "          print('Classwise test accuracy:', class_test_acc)\n",
        "          break\n",
        "        if test_acc > stopping_accuracy:\n",
        "          break\n",
        "    if run_only == 'both':\n",
        "      print('\\n\\nThe max accuracy of testing results: acc %.3f of epoch %s' % (max_acc, step+1))\n",
        "      return np.array(train_accuracy), np.array(test_accuracy), np.array(train_loss_list), np.array(test_loss_list)"
      ],
      "execution_count": 16,
      "outputs": []
    },
    {
      "cell_type": "markdown",
      "metadata": {
        "id": "L0VrkEqj012w"
      },
      "source": [
        "Evaluate"
      ]
    },
    {
      "cell_type": "code",
      "metadata": {
        "id": "PI590H2t007R"
      },
      "source": [
        "def evaluate(y_pred, y_true):\n",
        "    \n",
        "    hit_count = np.zeros(3, dtype='int32')\n",
        "    original_count = np.zeros(3, dtype='int32')\n",
        "    n_test = len(y_true)\n",
        "\n",
        "    for i in range(n_test):\n",
        "        y_p = int(y_pred[i])\n",
        "        y_g = y_true[i]\n",
        "        original_count[y_g] += 1\n",
        "        if y_p == y_g:\n",
        "            hit_count[y_p] += 1\n",
        "\n",
        "    total_hit = sum(hit_count)\n",
        "    acc = float(total_hit) / n_test\n",
        "    # print(hit_count[0])\n",
        "    class_acc = []\n",
        "    class_acc.append((hit_count[0] / original_count[0]))\n",
        "    class_acc.append((hit_count[1] / original_count[1]))\n",
        "    class_acc.append((hit_count[2] / original_count[2]))\n",
        "    class_acc = np.round_(np.array(class_acc), decimals = 3)\n",
        "    return acc, class_acc"
      ],
      "execution_count": 17,
      "outputs": []
    },
    {
      "cell_type": "code",
      "metadata": {
        "id": "NJ5xHistaFUv"
      },
      "source": [
        "def getting_attention_weights(X_test_padded, corpus_test, att_context, indx=0):\n",
        "  tokenized_text = []\n",
        "  attention_output = []\n",
        "  for i in range(len(X_test_padded[indx])):\n",
        "    try:\n",
        "      if X_test_padded[indx][i] != 0:\n",
        "        tokenized_text.append(corpus_test[indx].split()[i])\n",
        "        attention_output.append(sum(att_context[indx][i]))\n",
        "    except:\n",
        "      pass\n",
        "  attention_output = np.array(attention_output)\n",
        "  attention_output1 = np.square(attention_output)\n",
        "  sum_sqr = np.sqrt(np.sum(attention_output1))\n",
        "  attention_output /= sum_sqr\n",
        "  return tokenized_text, attention_output\n",
        "\n",
        "class CharVal(object):\n",
        "    def __init__(self, char, val):\n",
        "        self.char = char\n",
        "        self.val = val\n",
        "\n",
        "    def __str__(self):\n",
        "        return self.char\n",
        "\n",
        "def rgb_to_hex(rgb):\n",
        "    return '#%02x%02x%02x' % rgb\n",
        "def color_charvals(s):\n",
        "    r = 255-int(s.val*255)\n",
        "    color = rgb_to_hex((255, r, r))\n",
        "    return 'background-color: %s' % color"
      ],
      "execution_count": 18,
      "outputs": []
    },
    {
      "cell_type": "markdown",
      "metadata": {
        "id": "oe0ThISd0iGe"
      },
      "source": [
        "# Laptop"
      ]
    },
    {
      "cell_type": "code",
      "metadata": {
        "id": "rr2UAoWLNvbg"
      },
      "source": [
        "corpus_train = simplify(train_laptop['context'], train_laptop['output'])\n",
        "corpus_test = simplify(test_laptop['context'], test_laptop['output'])"
      ],
      "execution_count": 12,
      "outputs": []
    },
    {
      "cell_type": "code",
      "metadata": {
        "id": "xLdtwbb7Nv5K"
      },
      "source": [
        "embeddings_matrix, X_train_padded, X_test_padded, vocab_size = preprocessing(corpus_train, corpus_test, laptop_glove)"
      ],
      "execution_count": 19,
      "outputs": []
    },
    {
      "cell_type": "code",
      "metadata": {
        "id": "-hlQCc_hPewc"
      },
      "source": [
        "le = LabelEncoder()\n",
        "y_train_laptop = le.fit_transform(train_laptop['output'])\n",
        "y_test_laptop = le.transform(test_laptop['output'])\n",
        "num_classes = np.unique(y_train_laptop).shape[0]\n",
        "y_train_laptop1 = np_utils.to_categorical(y_train_laptop, num_classes)\n",
        "y_test_laptop1 = np_utils.to_categorical(y_test_laptop, num_classes)"
      ],
      "execution_count": 20,
      "outputs": []
    },
    {
      "cell_type": "code",
      "metadata": {
        "colab": {
          "base_uri": "https://localhost:8080/"
        },
        "id": "_zwtxTpBPgHs",
        "outputId": "e0a43ecd-2461-485a-c24b-e66c719e656a"
      },
      "source": [
        "print(embeddings_matrix.shape, X_train_padded.shape, X_test_padded.shape, y_train_laptop1.shape)"
      ],
      "execution_count": 19,
      "outputs": [
        {
          "output_type": "stream",
          "text": [
            "(3091, 300) (2328, 40) (638, 40) (2328, 3)\n"
          ],
          "name": "stdout"
        }
      ]
    },
    {
      "cell_type": "code",
      "metadata": {
        "id": "Nic98O-0Wcz8"
      },
      "source": [
        "corpus_train_target = simplify(train_laptop['target'], train_laptop['output'])\n",
        "corpus_test_target = simplify(test_laptop['target'], test_laptop['output'])"
      ],
      "execution_count": 21,
      "outputs": []
    },
    {
      "cell_type": "code",
      "metadata": {
        "id": "PJYExWRFWvZ6"
      },
      "source": [
        "embeddings_matrix_target, X_train_padded_target, X_test_padded_target, vocab_size_target = preprocessing(corpus_train_target, corpus_test_target, laptop_glove_target, max_sentence_length=10)"
      ],
      "execution_count": 22,
      "outputs": []
    },
    {
      "cell_type": "code",
      "metadata": {
        "colab": {
          "base_uri": "https://localhost:8080/"
        },
        "id": "wUJUl773QQnJ",
        "outputId": "69bcfd16-3d17-40ad-8fc2-268c23fce92d"
      },
      "source": [
        "print(embeddings_matrix_target.shape, X_train_padded_target.shape, X_test_padded_target.shape)"
      ],
      "execution_count": null,
      "outputs": [
        {
          "output_type": "stream",
          "text": [
            "(813, 300) (2328, 10) (638, 10)\n"
          ],
          "name": "stdout"
        }
      ]
    },
    {
      "cell_type": "code",
      "metadata": {
        "id": "c514a9w2X1OY"
      },
      "source": [
        "data = X_train_padded_target, X_train_padded, y_train_laptop1, np.full((X_train_padded.shape[0],), 10.), np.full((X_train_padded.shape[0],), 40.)\n",
        "data_test = X_test_padded_target, X_test_padded, y_test_laptop1, np.full((X_test_padded.shape[0],), 10.), np.full((X_test_padded.shape[0],), 40.)"
      ],
      "execution_count": 23,
      "outputs": []
    },
    {
      "cell_type": "markdown",
      "metadata": {
        "id": "JdNLGGlR6g4D"
      },
      "source": [
        "## WithoutAttention Model"
      ]
    },
    {
      "cell_type": "code",
      "metadata": {
        "id": "4BfXNksC4p2N"
      },
      "source": [
        "batch_size = 64\n",
        "learning_rate = 0.01\n",
        "n_epoch = 10"
      ],
      "execution_count": 28,
      "outputs": []
    },
    {
      "cell_type": "code",
      "metadata": {
        "colab": {
          "base_uri": "https://localhost:8080/"
        },
        "id": "IhlF6KC74s5x",
        "outputId": "4e689aac-1392-497d-8c03-922c58ed60c4"
      },
      "source": [
        "model_1 = WithoutAttention(embeddings_matrix, embeddings_matrix_target)\n",
        "train_accuracy, test_accuracy, train_loss, test_loss = run(model_1, data, data_test, stopping_accuracy=0.699)"
      ],
      "execution_count": 31,
      "outputs": [
        {
          "output_type": "stream",
          "text": [
            "Epoch 1/10 : 1.011sec\n",
            "===============>  train-loss=6.495472; train-acc=0.516927; validation-loss=1.038161; validation-acc=0.515625\n",
            "Classwise train accuracy: [0.502 0.308 0.628]\n",
            "Classwise test accuracy: [0.948 0.039 0.591]\n",
            "Epoch 2/10 : 0.949sec\n",
            "===============>  train-loss=0.847109; train-acc=0.642361; validation-loss=0.778272; validation-acc=0.623264\n",
            "Classwise train accuracy: [0.676 0.341 0.751]\n",
            "Classwise test accuracy: [0.835 0.366 0.672]\n",
            "Epoch 3/10 : 0.957sec\n",
            "===============>  train-loss=0.659457; train-acc=0.721354; validation-loss=0.705883; validation-acc=0.656250\n",
            "Classwise train accuracy: [0.791 0.42  0.8  ]\n",
            "Classwise test accuracy: [0.67  0.444 0.756]\n",
            "Epoch 4/10 : 0.947sec\n",
            "===============>  train-loss=0.519946; train-acc=0.795139; validation-loss=0.729175; validation-acc=0.657986\n",
            "Classwise train accuracy: [0.845 0.56  0.862]\n",
            "Classwise test accuracy: [0.513 0.229 0.925]\n",
            "Epoch 5/10 : 0.961sec\n",
            "===============>  train-loss=0.452492; train-acc=0.824219; validation-loss=0.874396; validation-acc=0.623264\n",
            "Classwise train accuracy: [0.868 0.618 0.883]\n",
            "Classwise test accuracy: [0.826 0.144 0.786]\n",
            "Epoch 6/10 : 1.013sec\n",
            "===============>  train-loss=0.406401; train-acc=0.839410; validation-loss=0.758516; validation-acc=0.663194\n",
            "Classwise train accuracy: [0.876 0.663 0.89 ]\n",
            "Classwise test accuracy: [0.626 0.51  0.753]\n",
            "Epoch 7/10 : 1.015sec\n",
            "===============>  train-loss=0.373359; train-acc=0.858073; validation-loss=0.977617; validation-acc=0.657986\n",
            "Classwise train accuracy: [0.898 0.67  0.911]\n",
            "Classwise test accuracy: [0.591 0.203 0.909]\n",
            "Epoch 8/10 : 0.986sec\n",
            "===============>  train-loss=0.292701; train-acc=0.888889; validation-loss=1.008083; validation-acc=0.619792\n",
            "Classwise train accuracy: [0.914 0.773 0.921]\n",
            "Classwise test accuracy: [0.748 0.229 0.766]\n",
            "Epoch 9/10 : 0.975sec\n",
            "===============>  train-loss=0.249194; train-acc=0.904514; validation-loss=0.889363; validation-acc=0.656250\n",
            "Classwise train accuracy: [0.925 0.801 0.936]\n",
            "Classwise test accuracy: [0.496 0.497 0.795]\n",
            "Epoch 10/10 : 0.978sec\n",
            "===============>  train-loss=0.301179; train-acc=0.881076; validation-loss=0.947749; validation-acc=0.647569\n",
            "Classwise train accuracy: [0.882 0.798 0.919]\n",
            "Classwise test accuracy: [0.47  0.536 0.769]\n",
            "\n",
            "\n",
            "The max accuracy of testing results: acc 0.663 of epoch 6\n"
          ],
          "name": "stdout"
        }
      ]
    },
    {
      "cell_type": "code",
      "metadata": {
        "colab": {
          "base_uri": "https://localhost:8080/"
        },
        "id": "1ZktzHg86v9g",
        "outputId": "cc92dcfb-7d8d-4bd9-8d62-56a735f536b9"
      },
      "source": [
        "train_accuracy, test_accuracy, train_loss, test_loss = run(model_1, data, data_test, stopping_accuracy=0.699)"
      ],
      "execution_count": 32,
      "outputs": [
        {
          "output_type": "stream",
          "text": [
            "Epoch 1/10 : 0.989sec\n",
            "===============>  train-loss=1.572434; train-acc=0.714844; validation-loss=1.040016; validation-acc=0.647569\n",
            "Classwise train accuracy: [0.752 0.466 0.799]\n",
            "Classwise test accuracy: [0.522 0.137 0.948]\n",
            "Epoch 2/10 : 0.975sec\n",
            "===============>  train-loss=0.375998; train-acc=0.849826; validation-loss=0.987966; validation-acc=0.651042\n",
            "Classwise train accuracy: [0.885 0.67  0.903]\n",
            "Classwise test accuracy: [0.583 0.255 0.873]\n",
            "Epoch 3/10 : 0.968sec\n",
            "===============>  train-loss=0.241042; train-acc=0.908420; validation-loss=1.277995; validation-acc=0.645833\n",
            "Classwise train accuracy: [0.925 0.815 0.938]\n",
            "Classwise test accuracy: [0.626 0.216 0.867]\n",
            "Epoch 4/10 : 1.023sec\n",
            "===============>  train-loss=0.213779; train-acc=0.915365; validation-loss=1.154942; validation-acc=0.661458\n",
            "Classwise train accuracy: [0.934 0.821 0.943]\n",
            "Classwise test accuracy: [0.6   0.275 0.877]\n",
            "Epoch 5/10 : 1.032sec\n",
            "===============>  train-loss=0.190015; train-acc=0.930556; validation-loss=1.532624; validation-acc=0.644097\n",
            "Classwise train accuracy: [0.947 0.849 0.954]\n",
            "Classwise test accuracy: [0.496 0.248 0.896]\n",
            "Epoch 6/10 : 1.008sec\n",
            "===============>  train-loss=0.190339; train-acc=0.928385; validation-loss=1.464620; validation-acc=0.609375\n",
            "Classwise train accuracy: [0.944 0.854 0.949]\n",
            "Classwise test accuracy: [0.722 0.451 0.646]\n",
            "Epoch 7/10 : 0.985sec\n",
            "===============>  train-loss=0.187580; train-acc=0.932726; validation-loss=1.517704; validation-acc=0.642361\n",
            "Classwise train accuracy: [0.943 0.887 0.945]\n",
            "Classwise test accuracy: [0.557 0.222 0.883]\n",
            "Epoch 8/10 : 1.011sec\n",
            "===============>  train-loss=0.142347; train-acc=0.945312; validation-loss=1.626999; validation-acc=0.633681\n",
            "Classwise train accuracy: [0.954 0.891 0.963]\n",
            "Classwise test accuracy: [0.609 0.288 0.815]\n",
            "Epoch 9/10 : 0.996sec\n",
            "===============>  train-loss=0.113817; train-acc=0.957899; validation-loss=1.532794; validation-acc=0.647569\n",
            "Classwise train accuracy: [0.963 0.921 0.971]\n",
            "Classwise test accuracy: [0.496 0.386 0.834]\n",
            "Epoch 10/10 : 1.010sec\n",
            "===============>  train-loss=0.130951; train-acc=0.952257; validation-loss=1.531396; validation-acc=0.647569\n",
            "Classwise train accuracy: [0.96  0.907 0.966]\n",
            "Classwise test accuracy: [0.574 0.353 0.821]\n",
            "\n",
            "\n",
            "The max accuracy of testing results: acc 0.661 of epoch 4\n"
          ],
          "name": "stdout"
        }
      ]
    },
    {
      "cell_type": "markdown",
      "metadata": {
        "id": "huXZqrx66nFX"
      },
      "source": [
        "## IAN Models"
      ]
    },
    {
      "cell_type": "code",
      "metadata": {
        "id": "m0-D-8B8gqdD"
      },
      "source": [
        "batch_size = 64\n",
        "learning_rate = 0.01\n",
        "n_epoch = 20"
      ],
      "execution_count": 26,
      "outputs": []
    },
    {
      "cell_type": "code",
      "metadata": {
        "colab": {
          "base_uri": "https://localhost:8080/"
        },
        "id": "RfB4knPuW4ZX",
        "outputId": "e98d89a2-9e3b-4b84-dd0c-c83bd88b0253"
      },
      "source": [
        "model_1 = IAN(embeddings_matrix, embeddings_matrix_target)\n",
        "train_accuracy, test_accuracy, train_loss, test_loss = run(model_1, data, data_test, stopping_accuracy=0.699)"
      ],
      "execution_count": null,
      "outputs": [
        {
          "output_type": "stream",
          "text": [
            "Epoch 1/40 : 1.291sec\n",
            "===============>  train-loss=1.159943; train-acc=0.507812; validation-loss=0.945714; validation-acc=0.493056\n",
            "Classwise train accuracy: [0.513 0.063 0.712]\n",
            "Classwise test accuracy: [0.896 0.026 0.575]\n",
            "Epoch 2/40 : 1.257sec\n",
            "===============>  train-loss=0.736316; train-acc=0.684028; validation-loss=0.618720; validation-acc=0.690972\n",
            "Classwise train accuracy: [0.802 0.28  0.77 ]\n",
            "Classwise test accuracy: [0.626 0.425 0.847]\n",
            "Epoch 3/40 : 1.246sec\n",
            "===============>  train-loss=0.627240; train-acc=0.729167; validation-loss=0.663167; validation-acc=0.677083\n",
            "Classwise train accuracy: [0.777 0.442 0.821]\n",
            "Classwise test accuracy: [0.73  0.32  0.834]\n",
            "Epoch 4/40 : 1.231sec\n",
            "===============>  train-loss=0.514695; train-acc=0.782118; validation-loss=0.647987; validation-acc=0.689236\n",
            "Classwise train accuracy: [0.847 0.502 0.856]\n",
            "Classwise test accuracy: [0.67  0.405 0.838]\n",
            "Epoch 5/40 : 1.259sec\n",
            "===============>  train-loss=0.413345; train-acc=0.838542; validation-loss=0.722609; validation-acc=0.699653\n",
            "Classwise train accuracy: [0.894 0.649 0.879]\n",
            "Classwise test accuracy: [0.67  0.333 0.893]\n",
            "\n",
            "\n",
            "The max accuracy of testing results: acc 0.700 of epoch 5\n"
          ],
          "name": "stdout"
        }
      ]
    },
    {
      "cell_type": "code",
      "metadata": {
        "colab": {
          "base_uri": "https://localhost:8080/"
        },
        "id": "I3g7Z27FYcAx",
        "outputId": "7a2518cb-f15a-4846-e1a7-1aded62342f2"
      },
      "source": [
        "train_accuracy, test_accuracy, train_loss, test_loss = run(model_1, data, data_test, stopping_accuracy=0.7050)"
      ],
      "execution_count": null,
      "outputs": [
        {
          "output_type": "stream",
          "text": [
            "Epoch 1/40 : 1.282sec\n",
            "===============>  train-loss=0.441302; train-acc=0.825087; validation-loss=0.715344; validation-acc=0.701389\n",
            "Classwise train accuracy: [0.88  0.634 0.866]\n",
            "Classwise test accuracy: [0.704 0.353 0.873]\n",
            "Epoch 2/40 : 1.249sec\n",
            "===============>  train-loss=0.281262; train-acc=0.892361; validation-loss=0.894176; validation-acc=0.673611\n",
            "Classwise train accuracy: [0.918 0.794 0.916]\n",
            "Classwise test accuracy: [0.617 0.307 0.877]\n",
            "Epoch 3/40 : 1.263sec\n",
            "===============>  train-loss=0.229466; train-acc=0.916233; validation-loss=0.890461; validation-acc=0.690972\n",
            "Classwise train accuracy: [0.945 0.83  0.932]\n",
            "Classwise test accuracy: [0.617 0.34  0.893]\n",
            "Epoch 4/40 : 1.266sec\n",
            "===============>  train-loss=0.177023; train-acc=0.937934; validation-loss=0.953435; validation-acc=0.690972\n",
            "Classwise train accuracy: [0.958 0.87  0.952]\n",
            "Classwise test accuracy: [0.652 0.34  0.88 ]\n",
            "Epoch 5/40 : 1.249sec\n",
            "===============>  train-loss=0.155909; train-acc=0.941840; validation-loss=0.994851; validation-acc=0.689236\n",
            "Classwise train accuracy: [0.945 0.891 0.962]\n",
            "Classwise test accuracy: [0.687 0.353 0.857]\n",
            "Epoch 6/40 : 1.226sec\n",
            "===============>  train-loss=0.149678; train-acc=0.940538; validation-loss=1.165530; validation-acc=0.696181\n",
            "Classwise train accuracy: [0.958 0.904 0.942]\n",
            "Classwise test accuracy: [0.713 0.294 0.89 ]\n",
            "Epoch 7/40 : 1.258sec\n",
            "===============>  train-loss=0.093933; train-acc=0.963542; validation-loss=1.210970; validation-acc=0.713542\n",
            "Classwise train accuracy: [0.978 0.922 0.971]\n",
            "Classwise test accuracy: [0.678 0.346 0.909]\n",
            "\n",
            "\n",
            "The max accuracy of testing results: acc 0.714 of epoch 7\n"
          ],
          "name": "stdout"
        }
      ]
    },
    {
      "cell_type": "code",
      "metadata": {
        "colab": {
          "base_uri": "https://localhost:8080/"
        },
        "id": "tqEkmP33XSVo",
        "outputId": "09595cf1-19f4-4c7f-a8ee-845f705c20a9"
      },
      "source": [
        "train_accuracy, test_accuracy, train_loss, test_loss = run(model_1, data, data_test, stopping_accuracy=0.7150)"
      ],
      "execution_count": null,
      "outputs": [
        {
          "output_type": "stream",
          "text": [
            "Epoch 1/40 : 1.291sec\n",
            "===============>  train-loss=0.123327; train-acc=0.958333; validation-loss=1.208732; validation-acc=0.666667\n",
            "Classwise train accuracy: [0.968 0.916 0.97 ]\n",
            "Classwise test accuracy: [0.713 0.301 0.831]\n",
            "Epoch 2/40 : 1.251sec\n",
            "===============>  train-loss=0.084206; train-acc=0.970486; validation-loss=1.508126; validation-acc=0.645833\n",
            "Classwise train accuracy: [0.966 0.954 0.982]\n",
            "Classwise test accuracy: [0.713 0.242 0.821]\n",
            "Epoch 3/40 : 1.264sec\n",
            "===============>  train-loss=0.067755; train-acc=0.975260; validation-loss=1.251335; validation-acc=0.704861\n",
            "Classwise train accuracy: [0.981 0.95  0.982]\n",
            "Classwise test accuracy: [0.609 0.464 0.86 ]\n",
            "Epoch 4/40 : 1.282sec\n",
            "===============>  train-loss=0.069783; train-acc=0.972222; validation-loss=1.329273; validation-acc=0.684028\n",
            "Classwise train accuracy: [0.975 0.955 0.978]\n",
            "Classwise test accuracy: [0.661 0.386 0.841]\n",
            "Epoch 5/40 : 1.282sec\n",
            "===============>  train-loss=0.062799; train-acc=0.977431; validation-loss=1.355814; validation-acc=0.685764\n",
            "Classwise train accuracy: [0.98  0.959 0.984]\n",
            "Classwise test accuracy: [0.617 0.405 0.851]\n",
            "Epoch 6/40 : 1.276sec\n",
            "===============>  train-loss=0.060917; train-acc=0.977431; validation-loss=1.427639; validation-acc=0.684028\n",
            "Classwise train accuracy: [0.985 0.95  0.984]\n",
            "Classwise test accuracy: [0.661 0.327 0.87 ]\n",
            "Epoch 7/40 : 1.260sec\n",
            "===============>  train-loss=0.052646; train-acc=0.983941; validation-loss=1.544227; validation-acc=0.663194\n",
            "Classwise train accuracy: [0.987 0.959 0.993]\n",
            "Classwise test accuracy: [0.704 0.314 0.821]\n",
            "Epoch 8/40 : 1.333sec\n",
            "===============>  train-loss=0.032476; train-acc=0.991319; validation-loss=1.940150; validation-acc=0.654514\n",
            "Classwise train accuracy: [0.991 0.985 0.995]\n",
            "Classwise test accuracy: [0.748 0.19  0.851]\n",
            "Epoch 9/40 : 1.268sec\n",
            "===============>  train-loss=0.042229; train-acc=0.986979; validation-loss=1.650274; validation-acc=0.685764\n",
            "Classwise train accuracy: [0.991 0.97  0.992]\n",
            "Classwise test accuracy: [0.678 0.32  0.87 ]\n",
            "Epoch 10/40 : 1.259sec\n",
            "===============>  train-loss=0.032176; train-acc=0.989149; validation-loss=1.567169; validation-acc=0.680556\n",
            "Classwise train accuracy: [0.992 0.972 0.995]\n",
            "Classwise test accuracy: [0.704 0.359 0.831]\n",
            "Epoch 11/40 : 1.264sec\n",
            "===============>  train-loss=0.032613; train-acc=0.986545; validation-loss=1.638710; validation-acc=0.670139\n",
            "Classwise train accuracy: [0.987 0.976 0.991]\n",
            "Classwise test accuracy: [0.696 0.392 0.799]\n",
            "Epoch 12/40 : 1.292sec\n",
            "===============>  train-loss=0.048191; train-acc=0.981771; validation-loss=1.746227; validation-acc=0.656250\n",
            "Classwise train accuracy: [0.988 0.967 0.983]\n",
            "Classwise test accuracy: [0.713 0.412 0.756]\n",
            "Epoch 13/40 : 1.263sec\n",
            "===============>  train-loss=0.054119; train-acc=0.978733; validation-loss=1.584962; validation-acc=0.673611\n",
            "Classwise train accuracy: [0.981 0.971 0.98 ]\n",
            "Classwise test accuracy: [0.704 0.34  0.828]\n",
            "Epoch 14/40 : 1.250sec\n",
            "===============>  train-loss=0.045438; train-acc=0.982639; validation-loss=1.620620; validation-acc=0.690972\n",
            "Classwise train accuracy: [0.988 0.959 0.989]\n",
            "Classwise test accuracy: [0.678 0.359 0.86 ]\n",
            "Epoch 15/40 : 1.259sec\n",
            "===============>  train-loss=0.049841; train-acc=0.983073; validation-loss=1.673546; validation-acc=0.675347\n",
            "Classwise train accuracy: [0.984 0.97  0.989]\n",
            "Classwise test accuracy: [0.713 0.34  0.828]\n",
            "Epoch 16/40 : 1.279sec\n",
            "===============>  train-loss=0.039509; train-acc=0.986545; validation-loss=1.782591; validation-acc=0.663194\n",
            "Classwise train accuracy: [0.983 0.978 0.994]\n",
            "Classwise test accuracy: [0.73  0.314 0.812]\n",
            "Epoch 17/40 : 1.260sec\n",
            "===============>  train-loss=0.047586; train-acc=0.985243; validation-loss=1.578617; validation-acc=0.654514\n",
            "Classwise train accuracy: [0.987 0.974 0.989]\n",
            "Classwise test accuracy: [0.652 0.346 0.808]\n",
            "Epoch 18/40 : 1.260sec\n",
            "===============>  train-loss=0.029041; train-acc=0.988715; validation-loss=1.943650; validation-acc=0.675347\n",
            "Classwise train accuracy: [0.988 0.976 0.995]\n",
            "Classwise test accuracy: [0.704 0.261 0.87 ]\n",
            "Epoch 19/40 : 1.261sec\n",
            "===============>  train-loss=0.027678; train-acc=0.989583; validation-loss=1.994518; validation-acc=0.680556\n",
            "Classwise train accuracy: [0.991 0.978 0.994]\n",
            "Classwise test accuracy: [0.774 0.255 0.857]\n",
            "Epoch 20/40 : 1.291sec\n",
            "===============>  train-loss=0.025318; train-acc=0.991319; validation-loss=1.865135; validation-acc=0.680556\n",
            "Classwise train accuracy: [0.992 0.985 0.994]\n",
            "Classwise test accuracy: [0.696 0.281 0.873]\n",
            "Epoch 21/40 : 1.270sec\n",
            "===============>  train-loss=0.038181; train-acc=0.986545; validation-loss=2.072804; validation-acc=0.647569\n",
            "Classwise train accuracy: [0.986 0.974 0.993]\n",
            "Classwise test accuracy: [0.722 0.216 0.834]\n",
            "Epoch 22/40 : 1.269sec\n",
            "===============>  train-loss=0.028804; train-acc=0.987413; validation-loss=1.741171; validation-acc=0.692708\n",
            "Classwise train accuracy: [0.988 0.98  0.99 ]\n",
            "Classwise test accuracy: [0.609 0.373 0.883]\n",
            "Epoch 23/40 : 1.255sec\n",
            "===============>  train-loss=0.026910; train-acc=0.991319; validation-loss=1.798648; validation-acc=0.689236\n",
            "Classwise train accuracy: [0.994 0.976 0.996]\n",
            "Classwise test accuracy: [0.704 0.353 0.851]\n",
            "Epoch 24/40 : 1.248sec\n",
            "===============>  train-loss=0.021262; train-acc=0.990451; validation-loss=1.920666; validation-acc=0.670139\n",
            "Classwise train accuracy: [0.988 0.985 0.995]\n",
            "Classwise test accuracy: [0.73  0.314 0.825]\n",
            "Epoch 25/40 : 1.258sec\n",
            "===============>  train-loss=0.022355; train-acc=0.990017; validation-loss=1.719033; validation-acc=0.694444\n",
            "Classwise train accuracy: [0.991 0.983 0.993]\n",
            "Classwise test accuracy: [0.696 0.386 0.847]\n",
            "Epoch 26/40 : 1.275sec\n",
            "===============>  train-loss=0.017363; train-acc=0.991753; validation-loss=1.802859; validation-acc=0.682292\n",
            "Classwise train accuracy: [0.988 0.987 0.997]\n",
            "Classwise test accuracy: [0.67  0.34  0.857]\n",
            "Epoch 27/40 : 1.283sec\n",
            "===============>  train-loss=0.018714; train-acc=0.992622; validation-loss=1.870327; validation-acc=0.675347\n",
            "Classwise train accuracy: [0.994 0.983 0.996]\n",
            "Classwise test accuracy: [0.678 0.301 0.86 ]\n",
            "Epoch 28/40 : 1.277sec\n",
            "===============>  train-loss=0.017034; train-acc=0.992622; validation-loss=2.021330; validation-acc=0.685764\n",
            "Classwise train accuracy: [0.994 0.98  0.997]\n",
            "Classwise test accuracy: [0.765 0.314 0.841]\n",
            "Epoch 29/40 : 1.275sec\n",
            "===============>  train-loss=0.016847; train-acc=0.991319; validation-loss=2.037572; validation-acc=0.685764\n",
            "Classwise train accuracy: [0.993 0.985 0.993]\n",
            "Classwise test accuracy: [0.687 0.294 0.88 ]\n",
            "Epoch 30/40 : 1.250sec\n",
            "===============>  train-loss=0.017089; train-acc=0.991753; validation-loss=2.157181; validation-acc=0.689236\n",
            "Classwise train accuracy: [0.991 0.983 0.997]\n",
            "Classwise test accuracy: [0.748 0.307 0.857]\n",
            "Epoch 31/40 : 1.260sec\n",
            "===============>  train-loss=0.024101; train-acc=0.987413; validation-loss=2.011391; validation-acc=0.684028\n",
            "Classwise train accuracy: [0.991 0.972 0.992]\n",
            "Classwise test accuracy: [0.722 0.373 0.825]\n",
            "Epoch 32/40 : 1.258sec\n",
            "===============>  train-loss=0.028953; train-acc=0.987413; validation-loss=1.967453; validation-acc=0.682292\n",
            "Classwise train accuracy: [0.991 0.972 0.992]\n",
            "Classwise test accuracy: [0.765 0.353 0.815]\n",
            "Epoch 33/40 : 1.246sec\n",
            "===============>  train-loss=0.044408; train-acc=0.984375; validation-loss=1.915396; validation-acc=0.684028\n",
            "Classwise train accuracy: [0.99  0.972 0.986]\n",
            "Classwise test accuracy: [0.739 0.333 0.838]\n",
            "Epoch 34/40 : 1.280sec\n",
            "===============>  train-loss=0.059806; train-acc=0.978733; validation-loss=1.539350; validation-acc=0.678819\n",
            "Classwise train accuracy: [0.979 0.959 0.988]\n",
            "Classwise test accuracy: [0.643 0.392 0.834]\n",
            "Epoch 35/40 : 1.246sec\n",
            "===============>  train-loss=0.061865; train-acc=0.977431; validation-loss=1.856339; validation-acc=0.652778\n",
            "Classwise train accuracy: [0.979 0.959 0.985]\n",
            "Classwise test accuracy: [0.809 0.255 0.792]\n",
            "Epoch 36/40 : 1.243sec\n",
            "===============>  train-loss=0.091219; train-acc=0.972656; validation-loss=1.474278; validation-acc=0.684028\n",
            "Classwise train accuracy: [0.977 0.941 0.984]\n",
            "Classwise test accuracy: [0.73  0.314 0.851]\n",
            "Epoch 37/40 : 1.250sec\n",
            "===============>  train-loss=0.090056; train-acc=0.968750; validation-loss=1.542044; validation-acc=0.682292\n",
            "Classwise train accuracy: [0.97  0.939 0.982]\n",
            "Classwise test accuracy: [0.739 0.275 0.864]\n",
            "Epoch 38/40 : 1.247sec\n",
            "===============>  train-loss=0.059493; train-acc=0.980035; validation-loss=1.587785; validation-acc=0.673611\n",
            "Classwise train accuracy: [0.981 0.959 0.989]\n",
            "Classwise test accuracy: [0.696 0.314 0.844]\n",
            "Epoch 39/40 : 1.264sec\n",
            "===============>  train-loss=0.048831; train-acc=0.982205; validation-loss=1.482509; validation-acc=0.697917\n",
            "Classwise train accuracy: [0.984 0.957 0.993]\n",
            "Classwise test accuracy: [0.687 0.373 0.864]\n",
            "Epoch 40/40 : 1.247sec\n",
            "===============>  train-loss=0.037920; train-acc=0.987847; validation-loss=1.642268; validation-acc=0.685764\n",
            "Classwise train accuracy: [0.994 0.974 0.989]\n",
            "Classwise test accuracy: [0.643 0.34  0.873]\n",
            "\n",
            "\n",
            "The max accuracy of testing results: acc 0.705 of epoch 3\n"
          ],
          "name": "stdout"
        }
      ]
    },
    {
      "cell_type": "code",
      "metadata": {
        "colab": {
          "base_uri": "https://localhost:8080/"
        },
        "id": "uurMX9Uo0gAm",
        "outputId": "067afba6-7437-4de1-e0d3-1b3646d6ac78"
      },
      "source": [
        "model_1.save('/content/drive/MyDrive/DL/Assignment_4/Q2_model_laptop', save_format=\"tf\")"
      ],
      "execution_count": null,
      "outputs": [
        {
          "output_type": "stream",
          "text": [
            "WARNING:absl:Found untraced functions such as lstm_cell_8_layer_call_fn, lstm_cell_8_layer_call_and_return_conditional_losses, lstm_cell_9_layer_call_fn, lstm_cell_9_layer_call_and_return_conditional_losses, lstm_cell_8_layer_call_fn while saving (showing 5 of 10). These functions will not be directly callable after loading.\n",
            "WARNING:absl:Found untraced functions such as lstm_cell_8_layer_call_fn, lstm_cell_8_layer_call_and_return_conditional_losses, lstm_cell_9_layer_call_fn, lstm_cell_9_layer_call_and_return_conditional_losses, lstm_cell_8_layer_call_fn while saving (showing 5 of 10). These functions will not be directly callable after loading.\n"
          ],
          "name": "stderr"
        },
        {
          "output_type": "stream",
          "text": [
            "INFO:tensorflow:Assets written to: /content/drive/MyDrive/DL/Assignment_4/Q2_model_laptop/assets\n"
          ],
          "name": "stdout"
        },
        {
          "output_type": "stream",
          "text": [
            "INFO:tensorflow:Assets written to: /content/drive/MyDrive/DL/Assignment_4/Q2_model_laptop/assets\n"
          ],
          "name": "stderr"
        }
      ]
    },
    {
      "cell_type": "code",
      "metadata": {
        "colab": {
          "base_uri": "https://localhost:8080/"
        },
        "id": "XXiNZJI63TYu",
        "outputId": "9f0e7911-dab3-4b64-9a4d-5c591bba3872"
      },
      "source": [
        "model1 = load_model('/content/drive/MyDrive/DL/Assignment_4/Q2_model_laptop')"
      ],
      "execution_count": 24,
      "outputs": [
        {
          "output_type": "stream",
          "text": [
            "WARNING:tensorflow:No training configuration found in save file, so the model was *not* compiled. Compile it manually.\n"
          ],
          "name": "stdout"
        }
      ]
    },
    {
      "cell_type": "code",
      "metadata": {
        "colab": {
          "base_uri": "https://localhost:8080/"
        },
        "id": "oT_JZrvh3dxe",
        "outputId": "3e153860-f1c1-4821-9093-15ed929ea39e"
      },
      "source": [
        "run(model1, data, data_test, run_only='test')"
      ],
      "execution_count": null,
      "outputs": [
        {
          "output_type": "stream",
          "text": [
            "Time: 0.115sec\n",
            "===============>  validation-loss=1.208672; validation-acc=0.715278\n",
            "Classwise test accuracy: [0.678 0.353 0.909]\n"
          ],
          "name": "stdout"
        }
      ]
    },
    {
      "cell_type": "code",
      "metadata": {
        "id": "PIeHwfwrTjDE"
      },
      "source": [
        "data_test111 = X_test_padded_target[:64], X_test_padded[:64], y_test_laptop1[:64], np.full((64,), 15.), np.full((64,), 40.)\n",
        "pred, lbl, att_aspect, att_context = model1(data_test111)"
      ],
      "execution_count": 28,
      "outputs": []
    },
    {
      "cell_type": "code",
      "metadata": {
        "id": "Pu2DeZIzHmnx"
      },
      "source": [
        "predict_list, labels_list = [], []\n",
        "predict_list.extend(tf.argmax(tf.nn.softmax(pred), 1).numpy())\n",
        "labels_list.extend(tf.argmax(lbl, 1).numpy())"
      ],
      "execution_count": 32,
      "outputs": []
    },
    {
      "cell_type": "markdown",
      "metadata": {
        "id": "TEYA8welawdF"
      },
      "source": [
        "### For 1st input, attention weights results"
      ]
    },
    {
      "cell_type": "code",
      "metadata": {
        "id": "3sdokOwiJMn1"
      },
      "source": [
        "indx = 0"
      ],
      "execution_count": 46,
      "outputs": []
    },
    {
      "cell_type": "code",
      "metadata": {
        "colab": {
          "base_uri": "https://localhost:8080/",
          "height": 81
        },
        "id": "AYgcUhynZ9X7",
        "outputId": "470a49e9-5568-4928-e69d-ce3b82689823"
      },
      "source": [
        "tokenized_text, attention_output = getting_attention_weights(X_test_padded, corpus_test, att_context.numpy(), indx)\n",
        "char_vals = [CharVal(c, v) for c, v in zip(tokenized_text, attention_output)]\n",
        "char_df = pd.DataFrame(char_vals).transpose()\n",
        "char_df = char_df.style.applymap(color_charvals)\n",
        "char_df"
      ],
      "execution_count": 47,
      "outputs": [
        {
          "output_type": "execute_result",
          "data": {
            "text/html": [
              "<style  type=\"text/css\" >\n",
              "#T_c7fea08a_9f5e_11eb_8e3b_0242ac1c0002row0_col0{\n",
              "            background-color:  #ffe1e1;\n",
              "        }#T_c7fea08a_9f5e_11eb_8e3b_0242ac1c0002row0_col1{\n",
              "            background-color:  #ffabab;\n",
              "        }#T_c7fea08a_9f5e_11eb_8e3b_0242ac1c0002row0_col2,#T_c7fea08a_9f5e_11eb_8e3b_0242ac1c0002row0_col4{\n",
              "            background-color:  #ffa8a8;\n",
              "        }#T_c7fea08a_9f5e_11eb_8e3b_0242ac1c0002row0_col3{\n",
              "            background-color:  #ffa7a7;\n",
              "        }#T_c7fea08a_9f5e_11eb_8e3b_0242ac1c0002row0_col5{\n",
              "            background-color:  #ffcece;\n",
              "        }#T_c7fea08a_9f5e_11eb_8e3b_0242ac1c0002row0_col6{\n",
              "            background-color:  #ffdede;\n",
              "        }#T_c7fea08a_9f5e_11eb_8e3b_0242ac1c0002row0_col7{\n",
              "            background-color:  #ffe2e2;\n",
              "        }#T_c7fea08a_9f5e_11eb_8e3b_0242ac1c0002row0_col8,#T_c7fea08a_9f5e_11eb_8e3b_0242ac1c0002row0_col16,#T_c7fea08a_9f5e_11eb_8e3b_0242ac1c0002row0_col18,#T_c7fea08a_9f5e_11eb_8e3b_0242ac1c0002row0_col33{\n",
              "            background-color:  #ffeeee;\n",
              "        }#T_c7fea08a_9f5e_11eb_8e3b_0242ac1c0002row0_col9,#T_c7fea08a_9f5e_11eb_8e3b_0242ac1c0002row0_col10,#T_c7fea08a_9f5e_11eb_8e3b_0242ac1c0002row0_col20,#T_c7fea08a_9f5e_11eb_8e3b_0242ac1c0002row0_col21,#T_c7fea08a_9f5e_11eb_8e3b_0242ac1c0002row0_col22{\n",
              "            background-color:  #fff2f2;\n",
              "        }#T_c7fea08a_9f5e_11eb_8e3b_0242ac1c0002row0_col11,#T_c7fea08a_9f5e_11eb_8e3b_0242ac1c0002row0_col13{\n",
              "            background-color:  #fff0f0;\n",
              "        }#T_c7fea08a_9f5e_11eb_8e3b_0242ac1c0002row0_col12{\n",
              "            background-color:  #ffe5e5;\n",
              "        }#T_c7fea08a_9f5e_11eb_8e3b_0242ac1c0002row0_col14{\n",
              "            background-color:  #ffefef;\n",
              "        }#T_c7fea08a_9f5e_11eb_8e3b_0242ac1c0002row0_col15,#T_c7fea08a_9f5e_11eb_8e3b_0242ac1c0002row0_col23,#T_c7fea08a_9f5e_11eb_8e3b_0242ac1c0002row0_col24,#T_c7fea08a_9f5e_11eb_8e3b_0242ac1c0002row0_col25{\n",
              "            background-color:  #fff3f3;\n",
              "        }#T_c7fea08a_9f5e_11eb_8e3b_0242ac1c0002row0_col17{\n",
              "            background-color:  #ffeded;\n",
              "        }#T_c7fea08a_9f5e_11eb_8e3b_0242ac1c0002row0_col19{\n",
              "            background-color:  #fff1f1;\n",
              "        }#T_c7fea08a_9f5e_11eb_8e3b_0242ac1c0002row0_col26{\n",
              "            background-color:  #ffecec;\n",
              "        }#T_c7fea08a_9f5e_11eb_8e3b_0242ac1c0002row0_col27{\n",
              "            background-color:  #ffdddd;\n",
              "        }#T_c7fea08a_9f5e_11eb_8e3b_0242ac1c0002row0_col28{\n",
              "            background-color:  #ffd4d4;\n",
              "        }#T_c7fea08a_9f5e_11eb_8e3b_0242ac1c0002row0_col29{\n",
              "            background-color:  #ffbdbd;\n",
              "        }#T_c7fea08a_9f5e_11eb_8e3b_0242ac1c0002row0_col30{\n",
              "            background-color:  #ffb9b9;\n",
              "        }#T_c7fea08a_9f5e_11eb_8e3b_0242ac1c0002row0_col31,#T_c7fea08a_9f5e_11eb_8e3b_0242ac1c0002row0_col32{\n",
              "            background-color:  #ffc4c4;\n",
              "        }#T_c7fea08a_9f5e_11eb_8e3b_0242ac1c0002row0_col34{\n",
              "            background-color:  #ffd9d9;\n",
              "        }#T_c7fea08a_9f5e_11eb_8e3b_0242ac1c0002row0_col35{\n",
              "            background-color:  #ffc7c7;\n",
              "        }</style><table id=\"T_c7fea08a_9f5e_11eb_8e3b_0242ac1c0002\" ><thead>    <tr>        <th class=\"blank level0\" ></th>        <th class=\"col_heading level0 col0\" >0</th>        <th class=\"col_heading level0 col1\" >1</th>        <th class=\"col_heading level0 col2\" >2</th>        <th class=\"col_heading level0 col3\" >3</th>        <th class=\"col_heading level0 col4\" >4</th>        <th class=\"col_heading level0 col5\" >5</th>        <th class=\"col_heading level0 col6\" >6</th>        <th class=\"col_heading level0 col7\" >7</th>        <th class=\"col_heading level0 col8\" >8</th>        <th class=\"col_heading level0 col9\" >9</th>        <th class=\"col_heading level0 col10\" >10</th>        <th class=\"col_heading level0 col11\" >11</th>        <th class=\"col_heading level0 col12\" >12</th>        <th class=\"col_heading level0 col13\" >13</th>        <th class=\"col_heading level0 col14\" >14</th>        <th class=\"col_heading level0 col15\" >15</th>        <th class=\"col_heading level0 col16\" >16</th>        <th class=\"col_heading level0 col17\" >17</th>        <th class=\"col_heading level0 col18\" >18</th>        <th class=\"col_heading level0 col19\" >19</th>        <th class=\"col_heading level0 col20\" >20</th>        <th class=\"col_heading level0 col21\" >21</th>        <th class=\"col_heading level0 col22\" >22</th>        <th class=\"col_heading level0 col23\" >23</th>        <th class=\"col_heading level0 col24\" >24</th>        <th class=\"col_heading level0 col25\" >25</th>        <th class=\"col_heading level0 col26\" >26</th>        <th class=\"col_heading level0 col27\" >27</th>        <th class=\"col_heading level0 col28\" >28</th>        <th class=\"col_heading level0 col29\" >29</th>        <th class=\"col_heading level0 col30\" >30</th>        <th class=\"col_heading level0 col31\" >31</th>        <th class=\"col_heading level0 col32\" >32</th>        <th class=\"col_heading level0 col33\" >33</th>        <th class=\"col_heading level0 col34\" >34</th>        <th class=\"col_heading level0 col35\" >35</th>    </tr></thead><tbody>\n",
              "                <tr>\n",
              "                        <th id=\"T_c7fea08a_9f5e_11eb_8e3b_0242ac1c0002level0_row0\" class=\"row_heading level0 row0\" >0</th>\n",
              "                        <td id=\"T_c7fea08a_9f5e_11eb_8e3b_0242ac1c0002row0_col0\" class=\"data row0 col0\" >other</td>\n",
              "                        <td id=\"T_c7fea08a_9f5e_11eb_8e3b_0242ac1c0002row0_col1\" class=\"data row0 col1\" >than</td>\n",
              "                        <td id=\"T_c7fea08a_9f5e_11eb_8e3b_0242ac1c0002row0_col2\" class=\"data row0 col2\" >not</td>\n",
              "                        <td id=\"T_c7fea08a_9f5e_11eb_8e3b_0242ac1c0002row0_col3\" class=\"data row0 col3\" >being</td>\n",
              "                        <td id=\"T_c7fea08a_9f5e_11eb_8e3b_0242ac1c0002row0_col4\" class=\"data row0 col4\" >a</td>\n",
              "                        <td id=\"T_c7fea08a_9f5e_11eb_8e3b_0242ac1c0002row0_col5\" class=\"data row0 col5\" >fan</td>\n",
              "                        <td id=\"T_c7fea08a_9f5e_11eb_8e3b_0242ac1c0002row0_col6\" class=\"data row0 col6\" >of</td>\n",
              "                        <td id=\"T_c7fea08a_9f5e_11eb_8e3b_0242ac1c0002row0_col7\" class=\"data row0 col7\" >click</td>\n",
              "                        <td id=\"T_c7fea08a_9f5e_11eb_8e3b_0242ac1c0002row0_col8\" class=\"data row0 col8\" >pads</td>\n",
              "                        <td id=\"T_c7fea08a_9f5e_11eb_8e3b_0242ac1c0002row0_col9\" class=\"data row0 col9\" >industry</td>\n",
              "                        <td id=\"T_c7fea08a_9f5e_11eb_8e3b_0242ac1c0002row0_col10\" class=\"data row0 col10\" >standard</td>\n",
              "                        <td id=\"T_c7fea08a_9f5e_11eb_8e3b_0242ac1c0002row0_col11\" class=\"data row0 col11\" >these</td>\n",
              "                        <td id=\"T_c7fea08a_9f5e_11eb_8e3b_0242ac1c0002row0_col12\" class=\"data row0 col12\" >days</td>\n",
              "                        <td id=\"T_c7fea08a_9f5e_11eb_8e3b_0242ac1c0002row0_col13\" class=\"data row0 col13\" >and</td>\n",
              "                        <td id=\"T_c7fea08a_9f5e_11eb_8e3b_0242ac1c0002row0_col14\" class=\"data row0 col14\" >the</td>\n",
              "                        <td id=\"T_c7fea08a_9f5e_11eb_8e3b_0242ac1c0002row0_col15\" class=\"data row0 col15\" >lousy</td>\n",
              "                        <td id=\"T_c7fea08a_9f5e_11eb_8e3b_0242ac1c0002row0_col16\" class=\"data row0 col16\" >internal</td>\n",
              "                        <td id=\"T_c7fea08a_9f5e_11eb_8e3b_0242ac1c0002row0_col17\" class=\"data row0 col17\" >speakers</td>\n",
              "                        <td id=\"T_c7fea08a_9f5e_11eb_8e3b_0242ac1c0002row0_col18\" class=\"data row0 col18\" >it</td>\n",
              "                        <td id=\"T_c7fea08a_9f5e_11eb_8e3b_0242ac1c0002row0_col19\" class=\"data row0 col19\" >s</td>\n",
              "                        <td id=\"T_c7fea08a_9f5e_11eb_8e3b_0242ac1c0002row0_col20\" class=\"data row0 col20\" >hard</td>\n",
              "                        <td id=\"T_c7fea08a_9f5e_11eb_8e3b_0242ac1c0002row0_col21\" class=\"data row0 col21\" >for</td>\n",
              "                        <td id=\"T_c7fea08a_9f5e_11eb_8e3b_0242ac1c0002row0_col22\" class=\"data row0 col22\" >me</td>\n",
              "                        <td id=\"T_c7fea08a_9f5e_11eb_8e3b_0242ac1c0002row0_col23\" class=\"data row0 col23\" >to</td>\n",
              "                        <td id=\"T_c7fea08a_9f5e_11eb_8e3b_0242ac1c0002row0_col24\" class=\"data row0 col24\" >find</td>\n",
              "                        <td id=\"T_c7fea08a_9f5e_11eb_8e3b_0242ac1c0002row0_col25\" class=\"data row0 col25\" >things</td>\n",
              "                        <td id=\"T_c7fea08a_9f5e_11eb_8e3b_0242ac1c0002row0_col26\" class=\"data row0 col26\" >about</td>\n",
              "                        <td id=\"T_c7fea08a_9f5e_11eb_8e3b_0242ac1c0002row0_col27\" class=\"data row0 col27\" >this</td>\n",
              "                        <td id=\"T_c7fea08a_9f5e_11eb_8e3b_0242ac1c0002row0_col28\" class=\"data row0 col28\" >notebook</td>\n",
              "                        <td id=\"T_c7fea08a_9f5e_11eb_8e3b_0242ac1c0002row0_col29\" class=\"data row0 col29\" >i</td>\n",
              "                        <td id=\"T_c7fea08a_9f5e_11eb_8e3b_0242ac1c0002row0_col30\" class=\"data row0 col30\" >don</td>\n",
              "                        <td id=\"T_c7fea08a_9f5e_11eb_8e3b_0242ac1c0002row0_col31\" class=\"data row0 col31\" >t</td>\n",
              "                        <td id=\"T_c7fea08a_9f5e_11eb_8e3b_0242ac1c0002row0_col32\" class=\"data row0 col32\" >like</td>\n",
              "                        <td id=\"T_c7fea08a_9f5e_11eb_8e3b_0242ac1c0002row0_col33\" class=\"data row0 col33\" >especially</td>\n",
              "                        <td id=\"T_c7fea08a_9f5e_11eb_8e3b_0242ac1c0002row0_col34\" class=\"data row0 col34\" >considering</td>\n",
              "                        <td id=\"T_c7fea08a_9f5e_11eb_8e3b_0242ac1c0002row0_col35\" class=\"data row0 col35\" >the</td>\n",
              "            </tr>\n",
              "    </tbody></table>"
            ],
            "text/plain": [
              "<pandas.io.formats.style.Styler at 0x7f37989aaa90>"
            ]
          },
          "metadata": {
            "tags": []
          },
          "execution_count": 47
        }
      ]
    },
    {
      "cell_type": "code",
      "metadata": {
        "colab": {
          "base_uri": "https://localhost:8080/",
          "height": 61
        },
        "id": "Tu99zA9WajNK",
        "outputId": "49791abf-c322-46df-a90b-65e76de7c96f"
      },
      "source": [
        "tokenized_text, attention_output = getting_attention_weights(X_test_padded_target, corpus_test_target, att_aspect.numpy(), indx)\n",
        "char_vals = [CharVal(c, v) for c, v in zip(tokenized_text, attention_output)]\n",
        "char_df = pd.DataFrame(char_vals).transpose()\n",
        "char_df = char_df.style.applymap(color_charvals)\n",
        "char_df"
      ],
      "execution_count": 48,
      "outputs": [
        {
          "output_type": "execute_result",
          "data": {
            "text/html": [
              "<style  type=\"text/css\" >\n",
              "#T_cc58f8c4_9f5e_11eb_8e3b_0242ac1c0002row0_col0{\n",
              "            background-color:  #ff6565;\n",
              "        }#T_cc58f8c4_9f5e_11eb_8e3b_0242ac1c0002row0_col1{\n",
              "            background-color:  #ff3434;\n",
              "        }</style><table id=\"T_cc58f8c4_9f5e_11eb_8e3b_0242ac1c0002\" ><thead>    <tr>        <th class=\"blank level0\" ></th>        <th class=\"col_heading level0 col0\" >0</th>        <th class=\"col_heading level0 col1\" >1</th>    </tr></thead><tbody>\n",
              "                <tr>\n",
              "                        <th id=\"T_cc58f8c4_9f5e_11eb_8e3b_0242ac1c0002level0_row0\" class=\"row_heading level0 row0\" >0</th>\n",
              "                        <td id=\"T_cc58f8c4_9f5e_11eb_8e3b_0242ac1c0002row0_col0\" class=\"data row0 col0\" >internal</td>\n",
              "                        <td id=\"T_cc58f8c4_9f5e_11eb_8e3b_0242ac1c0002row0_col1\" class=\"data row0 col1\" >speakers</td>\n",
              "            </tr>\n",
              "    </tbody></table>"
            ],
            "text/plain": [
              "<pandas.io.formats.style.Styler at 0x7f37985d3a10>"
            ]
          },
          "metadata": {
            "tags": []
          },
          "execution_count": 48
        }
      ]
    },
    {
      "cell_type": "code",
      "metadata": {
        "colab": {
          "base_uri": "https://localhost:8080/"
        },
        "id": "m5ypdTsQIK0e",
        "outputId": "4ff634e2-5569-4d31-c55b-c6f0d8ebf257"
      },
      "source": [
        "print(corpus_test[indx], \"\\n==>\", corpus_test_target[indx], \"\\n==>\", list_emotions[predict_list[indx]])"
      ],
      "execution_count": 50,
      "outputs": [
        {
          "output_type": "stream",
          "text": [
            "other than not being a fan of click pads  industry standard these days  and the lousy internal speakers  it s hard for me to find things about this notebook i don t like  especially considering the  350 price tag  \n",
            "==> internal speakers \n",
            "==> negative\n"
          ],
          "name": "stdout"
        }
      ]
    },
    {
      "cell_type": "markdown",
      "metadata": {
        "id": "jhxVxnTeJ2gP"
      },
      "source": [
        "### For 2nd input, attention weights results"
      ]
    },
    {
      "cell_type": "code",
      "metadata": {
        "id": "VBdij8FFJ2gg"
      },
      "source": [
        "indx = 20"
      ],
      "execution_count": 51,
      "outputs": []
    },
    {
      "cell_type": "code",
      "metadata": {
        "colab": {
          "base_uri": "https://localhost:8080/",
          "height": 61
        },
        "id": "HEac-LNmJ2gh",
        "outputId": "a4aa7b33-63a8-4c3c-8442-6f41d50a569c"
      },
      "source": [
        "tokenized_text, attention_output = getting_attention_weights(X_test_padded, corpus_test, att_context.numpy(), indx)\n",
        "char_vals = [CharVal(c, v) for c, v in zip(tokenized_text, attention_output)]\n",
        "char_df = pd.DataFrame(char_vals).transpose()\n",
        "char_df = char_df.style.applymap(color_charvals)\n",
        "char_df"
      ],
      "execution_count": 52,
      "outputs": [
        {
          "output_type": "execute_result",
          "data": {
            "text/html": [
              "<style  type=\"text/css\" >\n",
              "#T_10b119ca_9f5f_11eb_8e3b_0242ac1c0002row0_col0{\n",
              "            background-color:  #fff4f4;\n",
              "        }#T_10b119ca_9f5f_11eb_8e3b_0242ac1c0002row0_col1{\n",
              "            background-color:  #fff3f3;\n",
              "        }#T_10b119ca_9f5f_11eb_8e3b_0242ac1c0002row0_col2{\n",
              "            background-color:  #fff2f2;\n",
              "        }#T_10b119ca_9f5f_11eb_8e3b_0242ac1c0002row0_col3{\n",
              "            background-color:  #ffdddd;\n",
              "        }#T_10b119ca_9f5f_11eb_8e3b_0242ac1c0002row0_col4{\n",
              "            background-color:  #ffcbcb;\n",
              "        }#T_10b119ca_9f5f_11eb_8e3b_0242ac1c0002row0_col5{\n",
              "            background-color:  #ffc6c6;\n",
              "        }#T_10b119ca_9f5f_11eb_8e3b_0242ac1c0002row0_col6{\n",
              "            background-color:  #fff0f0;\n",
              "        }#T_10b119ca_9f5f_11eb_8e3b_0242ac1c0002row0_col7{\n",
              "            background-color:  #ffebeb;\n",
              "        }#T_10b119ca_9f5f_11eb_8e3b_0242ac1c0002row0_col8{\n",
              "            background-color:  #ffb2b2;\n",
              "        }#T_10b119ca_9f5f_11eb_8e3b_0242ac1c0002row0_col9{\n",
              "            background-color:  #ffb1b1;\n",
              "        }#T_10b119ca_9f5f_11eb_8e3b_0242ac1c0002row0_col10{\n",
              "            background-color:  #ffb0b0;\n",
              "        }#T_10b119ca_9f5f_11eb_8e3b_0242ac1c0002row0_col11,#T_10b119ca_9f5f_11eb_8e3b_0242ac1c0002row0_col12{\n",
              "            background-color:  #ffafaf;\n",
              "        }#T_10b119ca_9f5f_11eb_8e3b_0242ac1c0002row0_col13,#T_10b119ca_9f5f_11eb_8e3b_0242ac1c0002row0_col14{\n",
              "            background-color:  #ffe2e2;\n",
              "        }#T_10b119ca_9f5f_11eb_8e3b_0242ac1c0002row0_col15{\n",
              "            background-color:  #ffc3c3;\n",
              "        }#T_10b119ca_9f5f_11eb_8e3b_0242ac1c0002row0_col16,#T_10b119ca_9f5f_11eb_8e3b_0242ac1c0002row0_col17,#T_10b119ca_9f5f_11eb_8e3b_0242ac1c0002row0_col18{\n",
              "            background-color:  #ffaeae;\n",
              "        }</style><table id=\"T_10b119ca_9f5f_11eb_8e3b_0242ac1c0002\" ><thead>    <tr>        <th class=\"blank level0\" ></th>        <th class=\"col_heading level0 col0\" >0</th>        <th class=\"col_heading level0 col1\" >1</th>        <th class=\"col_heading level0 col2\" >2</th>        <th class=\"col_heading level0 col3\" >3</th>        <th class=\"col_heading level0 col4\" >4</th>        <th class=\"col_heading level0 col5\" >5</th>        <th class=\"col_heading level0 col6\" >6</th>        <th class=\"col_heading level0 col7\" >7</th>        <th class=\"col_heading level0 col8\" >8</th>        <th class=\"col_heading level0 col9\" >9</th>        <th class=\"col_heading level0 col10\" >10</th>        <th class=\"col_heading level0 col11\" >11</th>        <th class=\"col_heading level0 col12\" >12</th>        <th class=\"col_heading level0 col13\" >13</th>        <th class=\"col_heading level0 col14\" >14</th>        <th class=\"col_heading level0 col15\" >15</th>        <th class=\"col_heading level0 col16\" >16</th>        <th class=\"col_heading level0 col17\" >17</th>        <th class=\"col_heading level0 col18\" >18</th>    </tr></thead><tbody>\n",
              "                <tr>\n",
              "                        <th id=\"T_10b119ca_9f5f_11eb_8e3b_0242ac1c0002level0_row0\" class=\"row_heading level0 row0\" >0</th>\n",
              "                        <td id=\"T_10b119ca_9f5f_11eb_8e3b_0242ac1c0002row0_col0\" class=\"data row0 col0\" >however</td>\n",
              "                        <td id=\"T_10b119ca_9f5f_11eb_8e3b_0242ac1c0002row0_col1\" class=\"data row0 col1\" >the</td>\n",
              "                        <td id=\"T_10b119ca_9f5f_11eb_8e3b_0242ac1c0002row0_col2\" class=\"data row0 col2\" >experience</td>\n",
              "                        <td id=\"T_10b119ca_9f5f_11eb_8e3b_0242ac1c0002row0_col3\" class=\"data row0 col3\" >was</td>\n",
              "                        <td id=\"T_10b119ca_9f5f_11eb_8e3b_0242ac1c0002row0_col4\" class=\"data row0 col4\" >great</td>\n",
              "                        <td id=\"T_10b119ca_9f5f_11eb_8e3b_0242ac1c0002row0_col5\" class=\"data row0 col5\" >since</td>\n",
              "                        <td id=\"T_10b119ca_9f5f_11eb_8e3b_0242ac1c0002row0_col6\" class=\"data row0 col6\" >the</td>\n",
              "                        <td id=\"T_10b119ca_9f5f_11eb_8e3b_0242ac1c0002row0_col7\" class=\"data row0 col7\" >os</td>\n",
              "                        <td id=\"T_10b119ca_9f5f_11eb_8e3b_0242ac1c0002row0_col8\" class=\"data row0 col8\" >does</td>\n",
              "                        <td id=\"T_10b119ca_9f5f_11eb_8e3b_0242ac1c0002row0_col9\" class=\"data row0 col9\" >not</td>\n",
              "                        <td id=\"T_10b119ca_9f5f_11eb_8e3b_0242ac1c0002row0_col10\" class=\"data row0 col10\" >become</td>\n",
              "                        <td id=\"T_10b119ca_9f5f_11eb_8e3b_0242ac1c0002row0_col11\" class=\"data row0 col11\" >unstable</td>\n",
              "                        <td id=\"T_10b119ca_9f5f_11eb_8e3b_0242ac1c0002row0_col12\" class=\"data row0 col12\" >and</td>\n",
              "                        <td id=\"T_10b119ca_9f5f_11eb_8e3b_0242ac1c0002row0_col13\" class=\"data row0 col13\" >the</td>\n",
              "                        <td id=\"T_10b119ca_9f5f_11eb_8e3b_0242ac1c0002row0_col14\" class=\"data row0 col14\" >application</td>\n",
              "                        <td id=\"T_10b119ca_9f5f_11eb_8e3b_0242ac1c0002row0_col15\" class=\"data row0 col15\" >will</td>\n",
              "                        <td id=\"T_10b119ca_9f5f_11eb_8e3b_0242ac1c0002row0_col16\" class=\"data row0 col16\" >simply</td>\n",
              "                        <td id=\"T_10b119ca_9f5f_11eb_8e3b_0242ac1c0002row0_col17\" class=\"data row0 col17\" >shutdown</td>\n",
              "                        <td id=\"T_10b119ca_9f5f_11eb_8e3b_0242ac1c0002row0_col18\" class=\"data row0 col18\" >and</td>\n",
              "            </tr>\n",
              "    </tbody></table>"
            ],
            "text/plain": [
              "<pandas.io.formats.style.Styler at 0x7f3798674d50>"
            ]
          },
          "metadata": {
            "tags": []
          },
          "execution_count": 52
        }
      ]
    },
    {
      "cell_type": "code",
      "metadata": {
        "colab": {
          "base_uri": "https://localhost:8080/",
          "height": 61
        },
        "id": "sVjlSVkkJ2gi",
        "outputId": "1b934c74-b96b-4022-dc94-4ac350644a3a"
      },
      "source": [
        "tokenized_text, attention_output = getting_attention_weights(X_test_padded_target, corpus_test_target, att_aspect.numpy(), indx)\n",
        "char_vals = [CharVal(c, v) for c, v in zip(tokenized_text, attention_output)]\n",
        "char_df = pd.DataFrame(char_vals).transpose()\n",
        "char_df = char_df.style.applymap(color_charvals)\n",
        "char_df"
      ],
      "execution_count": 53,
      "outputs": [
        {
          "output_type": "execute_result",
          "data": {
            "text/html": [
              "<style  type=\"text/css\" >\n",
              "#T_10b3992a_9f5f_11eb_8e3b_0242ac1c0002row0_col0{\n",
              "            background-color:  #ff0000;\n",
              "        }</style><table id=\"T_10b3992a_9f5f_11eb_8e3b_0242ac1c0002\" ><thead>    <tr>        <th class=\"blank level0\" ></th>        <th class=\"col_heading level0 col0\" >0</th>    </tr></thead><tbody>\n",
              "                <tr>\n",
              "                        <th id=\"T_10b3992a_9f5f_11eb_8e3b_0242ac1c0002level0_row0\" class=\"row_heading level0 row0\" >0</th>\n",
              "                        <td id=\"T_10b3992a_9f5f_11eb_8e3b_0242ac1c0002row0_col0\" class=\"data row0 col0\" >os</td>\n",
              "            </tr>\n",
              "    </tbody></table>"
            ],
            "text/plain": [
              "<pandas.io.formats.style.Styler at 0x7f37989fe890>"
            ]
          },
          "metadata": {
            "tags": []
          },
          "execution_count": 53
        }
      ]
    },
    {
      "cell_type": "code",
      "metadata": {
        "colab": {
          "base_uri": "https://localhost:8080/"
        },
        "id": "hmMmbEc8J2gj",
        "outputId": "e0a9e845-d023-42df-a37c-7edb43143db4"
      },
      "source": [
        "print(corpus_test[indx], \"\\n==>\", corpus_test_target[indx], \"\\n==>\", list_emotions[predict_list[indx]])"
      ],
      "execution_count": 54,
      "outputs": [
        {
          "output_type": "stream",
          "text": [
            "however  the experience was great since the os does not become unstable and the application will simply shutdown and reopen  \n",
            "==> os \n",
            "==> positive\n"
          ],
          "name": "stdout"
        }
      ]
    },
    {
      "cell_type": "markdown",
      "metadata": {
        "id": "NYhvndNRKCx5"
      },
      "source": [
        "### For 3rd input, attention weights results"
      ]
    },
    {
      "cell_type": "code",
      "metadata": {
        "id": "J3bYzRmmKCx6"
      },
      "source": [
        "indx = 55"
      ],
      "execution_count": 55,
      "outputs": []
    },
    {
      "cell_type": "code",
      "metadata": {
        "colab": {
          "base_uri": "https://localhost:8080/",
          "height": 61
        },
        "id": "HIPsM_65KCx6",
        "outputId": "82613ad7-b581-4c21-ad4c-21827aa756b0"
      },
      "source": [
        "tokenized_text, attention_output = getting_attention_weights(X_test_padded, corpus_test, att_context.numpy(), indx)\n",
        "char_vals = [CharVal(c, v) for c, v in zip(tokenized_text, attention_output)]\n",
        "char_df = pd.DataFrame(char_vals).transpose()\n",
        "char_df = char_df.style.applymap(color_charvals)\n",
        "char_df"
      ],
      "execution_count": 56,
      "outputs": [
        {
          "output_type": "execute_result",
          "data": {
            "text/html": [
              "<style  type=\"text/css\" >\n",
              "#T_48348760_9f5f_11eb_8e3b_0242ac1c0002row0_col0,#T_48348760_9f5f_11eb_8e3b_0242ac1c0002row0_col7{\n",
              "            background-color:  #fff2f2;\n",
              "        }#T_48348760_9f5f_11eb_8e3b_0242ac1c0002row0_col1,#T_48348760_9f5f_11eb_8e3b_0242ac1c0002row0_col8{\n",
              "            background-color:  #fff0f0;\n",
              "        }#T_48348760_9f5f_11eb_8e3b_0242ac1c0002row0_col2,#T_48348760_9f5f_11eb_8e3b_0242ac1c0002row0_col25,#T_48348760_9f5f_11eb_8e3b_0242ac1c0002row0_col26{\n",
              "            background-color:  #fff4f4;\n",
              "        }#T_48348760_9f5f_11eb_8e3b_0242ac1c0002row0_col3{\n",
              "            background-color:  #ffecec;\n",
              "        }#T_48348760_9f5f_11eb_8e3b_0242ac1c0002row0_col4,#T_48348760_9f5f_11eb_8e3b_0242ac1c0002row0_col23{\n",
              "            background-color:  #ffdddd;\n",
              "        }#T_48348760_9f5f_11eb_8e3b_0242ac1c0002row0_col5{\n",
              "            background-color:  #ffd5d5;\n",
              "        }#T_48348760_9f5f_11eb_8e3b_0242ac1c0002row0_col6{\n",
              "            background-color:  #ffdcdc;\n",
              "        }#T_48348760_9f5f_11eb_8e3b_0242ac1c0002row0_col9{\n",
              "            background-color:  #ffeded;\n",
              "        }#T_48348760_9f5f_11eb_8e3b_0242ac1c0002row0_col10{\n",
              "            background-color:  #ffebeb;\n",
              "        }#T_48348760_9f5f_11eb_8e3b_0242ac1c0002row0_col11{\n",
              "            background-color:  #ffe1e1;\n",
              "        }#T_48348760_9f5f_11eb_8e3b_0242ac1c0002row0_col12{\n",
              "            background-color:  #ffd6d6;\n",
              "        }#T_48348760_9f5f_11eb_8e3b_0242ac1c0002row0_col13{\n",
              "            background-color:  #ffbebe;\n",
              "        }#T_48348760_9f5f_11eb_8e3b_0242ac1c0002row0_col14,#T_48348760_9f5f_11eb_8e3b_0242ac1c0002row0_col21{\n",
              "            background-color:  #ffb7b7;\n",
              "        }#T_48348760_9f5f_11eb_8e3b_0242ac1c0002row0_col15,#T_48348760_9f5f_11eb_8e3b_0242ac1c0002row0_col19,#T_48348760_9f5f_11eb_8e3b_0242ac1c0002row0_col20{\n",
              "            background-color:  #ffb6b6;\n",
              "        }#T_48348760_9f5f_11eb_8e3b_0242ac1c0002row0_col16,#T_48348760_9f5f_11eb_8e3b_0242ac1c0002row0_col17,#T_48348760_9f5f_11eb_8e3b_0242ac1c0002row0_col18{\n",
              "            background-color:  #ffb5b5;\n",
              "        }#T_48348760_9f5f_11eb_8e3b_0242ac1c0002row0_col22{\n",
              "            background-color:  #ffbcbc;\n",
              "        }#T_48348760_9f5f_11eb_8e3b_0242ac1c0002row0_col24{\n",
              "            background-color:  #ffcece;\n",
              "        }</style><table id=\"T_48348760_9f5f_11eb_8e3b_0242ac1c0002\" ><thead>    <tr>        <th class=\"blank level0\" ></th>        <th class=\"col_heading level0 col0\" >0</th>        <th class=\"col_heading level0 col1\" >1</th>        <th class=\"col_heading level0 col2\" >2</th>        <th class=\"col_heading level0 col3\" >3</th>        <th class=\"col_heading level0 col4\" >4</th>        <th class=\"col_heading level0 col5\" >5</th>        <th class=\"col_heading level0 col6\" >6</th>        <th class=\"col_heading level0 col7\" >7</th>        <th class=\"col_heading level0 col8\" >8</th>        <th class=\"col_heading level0 col9\" >9</th>        <th class=\"col_heading level0 col10\" >10</th>        <th class=\"col_heading level0 col11\" >11</th>        <th class=\"col_heading level0 col12\" >12</th>        <th class=\"col_heading level0 col13\" >13</th>        <th class=\"col_heading level0 col14\" >14</th>        <th class=\"col_heading level0 col15\" >15</th>        <th class=\"col_heading level0 col16\" >16</th>        <th class=\"col_heading level0 col17\" >17</th>        <th class=\"col_heading level0 col18\" >18</th>        <th class=\"col_heading level0 col19\" >19</th>        <th class=\"col_heading level0 col20\" >20</th>        <th class=\"col_heading level0 col21\" >21</th>        <th class=\"col_heading level0 col22\" >22</th>        <th class=\"col_heading level0 col23\" >23</th>        <th class=\"col_heading level0 col24\" >24</th>        <th class=\"col_heading level0 col25\" >25</th>        <th class=\"col_heading level0 col26\" >26</th>    </tr></thead><tbody>\n",
              "                <tr>\n",
              "                        <th id=\"T_48348760_9f5f_11eb_8e3b_0242ac1c0002level0_row0\" class=\"row_heading level0 row0\" >0</th>\n",
              "                        <td id=\"T_48348760_9f5f_11eb_8e3b_0242ac1c0002row0_col0\" class=\"data row0 col0\" >the</td>\n",
              "                        <td id=\"T_48348760_9f5f_11eb_8e3b_0242ac1c0002row0_col1\" class=\"data row0 col1\" >mac</td>\n",
              "                        <td id=\"T_48348760_9f5f_11eb_8e3b_0242ac1c0002row0_col2\" class=\"data row0 col2\" >mini</td>\n",
              "                        <td id=\"T_48348760_9f5f_11eb_8e3b_0242ac1c0002row0_col3\" class=\"data row0 col3\" >is</td>\n",
              "                        <td id=\"T_48348760_9f5f_11eb_8e3b_0242ac1c0002row0_col4\" class=\"data row0 col4\" >about</td>\n",
              "                        <td id=\"T_48348760_9f5f_11eb_8e3b_0242ac1c0002row0_col5\" class=\"data row0 col5\" >8x</td>\n",
              "                        <td id=\"T_48348760_9f5f_11eb_8e3b_0242ac1c0002row0_col6\" class=\"data row0 col6\" >smaller</td>\n",
              "                        <td id=\"T_48348760_9f5f_11eb_8e3b_0242ac1c0002row0_col7\" class=\"data row0 col7\" >than</td>\n",
              "                        <td id=\"T_48348760_9f5f_11eb_8e3b_0242ac1c0002row0_col8\" class=\"data row0 col8\" >my</td>\n",
              "                        <td id=\"T_48348760_9f5f_11eb_8e3b_0242ac1c0002row0_col9\" class=\"data row0 col9\" >old</td>\n",
              "                        <td id=\"T_48348760_9f5f_11eb_8e3b_0242ac1c0002row0_col10\" class=\"data row0 col10\" >computer</td>\n",
              "                        <td id=\"T_48348760_9f5f_11eb_8e3b_0242ac1c0002row0_col11\" class=\"data row0 col11\" >which</td>\n",
              "                        <td id=\"T_48348760_9f5f_11eb_8e3b_0242ac1c0002row0_col12\" class=\"data row0 col12\" >is</td>\n",
              "                        <td id=\"T_48348760_9f5f_11eb_8e3b_0242ac1c0002row0_col13\" class=\"data row0 col13\" >a</td>\n",
              "                        <td id=\"T_48348760_9f5f_11eb_8e3b_0242ac1c0002row0_col14\" class=\"data row0 col14\" >huge</td>\n",
              "                        <td id=\"T_48348760_9f5f_11eb_8e3b_0242ac1c0002row0_col15\" class=\"data row0 col15\" >bonus</td>\n",
              "                        <td id=\"T_48348760_9f5f_11eb_8e3b_0242ac1c0002row0_col16\" class=\"data row0 col16\" >and</td>\n",
              "                        <td id=\"T_48348760_9f5f_11eb_8e3b_0242ac1c0002row0_col17\" class=\"data row0 col17\" >runs</td>\n",
              "                        <td id=\"T_48348760_9f5f_11eb_8e3b_0242ac1c0002row0_col18\" class=\"data row0 col18\" >very</td>\n",
              "                        <td id=\"T_48348760_9f5f_11eb_8e3b_0242ac1c0002row0_col19\" class=\"data row0 col19\" >quiet</td>\n",
              "                        <td id=\"T_48348760_9f5f_11eb_8e3b_0242ac1c0002row0_col20\" class=\"data row0 col20\" >actually</td>\n",
              "                        <td id=\"T_48348760_9f5f_11eb_8e3b_0242ac1c0002row0_col21\" class=\"data row0 col21\" >the</td>\n",
              "                        <td id=\"T_48348760_9f5f_11eb_8e3b_0242ac1c0002row0_col22\" class=\"data row0 col22\" >fans</td>\n",
              "                        <td id=\"T_48348760_9f5f_11eb_8e3b_0242ac1c0002row0_col23\" class=\"data row0 col23\" >aren</td>\n",
              "                        <td id=\"T_48348760_9f5f_11eb_8e3b_0242ac1c0002row0_col24\" class=\"data row0 col24\" >t</td>\n",
              "                        <td id=\"T_48348760_9f5f_11eb_8e3b_0242ac1c0002row0_col25\" class=\"data row0 col25\" >audible</td>\n",
              "                        <td id=\"T_48348760_9f5f_11eb_8e3b_0242ac1c0002row0_col26\" class=\"data row0 col26\" >unlike</td>\n",
              "            </tr>\n",
              "    </tbody></table>"
            ],
            "text/plain": [
              "<pandas.io.formats.style.Styler at 0x7f37986d27d0>"
            ]
          },
          "metadata": {
            "tags": []
          },
          "execution_count": 56
        }
      ]
    },
    {
      "cell_type": "code",
      "metadata": {
        "colab": {
          "base_uri": "https://localhost:8080/",
          "height": 61
        },
        "id": "4BR2YSNVKCx7",
        "outputId": "c7f9cc28-0fde-4a69-ea34-fe099a4d4642"
      },
      "source": [
        "tokenized_text, attention_output = getting_attention_weights(X_test_padded_target, corpus_test_target, att_aspect.numpy(), indx)\n",
        "char_vals = [CharVal(c, v) for c, v in zip(tokenized_text, attention_output)]\n",
        "char_df = pd.DataFrame(char_vals).transpose()\n",
        "char_df = char_df.style.applymap(color_charvals)\n",
        "char_df"
      ],
      "execution_count": 57,
      "outputs": [
        {
          "output_type": "execute_result",
          "data": {
            "text/html": [
              "<style  type=\"text/css\" >\n",
              "#T_48373d48_9f5f_11eb_8e3b_0242ac1c0002row0_col0{\n",
              "            background-color:  #ff0000;\n",
              "        }</style><table id=\"T_48373d48_9f5f_11eb_8e3b_0242ac1c0002\" ><thead>    <tr>        <th class=\"blank level0\" ></th>        <th class=\"col_heading level0 col0\" >0</th>    </tr></thead><tbody>\n",
              "                <tr>\n",
              "                        <th id=\"T_48373d48_9f5f_11eb_8e3b_0242ac1c0002level0_row0\" class=\"row_heading level0 row0\" >0</th>\n",
              "                        <td id=\"T_48373d48_9f5f_11eb_8e3b_0242ac1c0002row0_col0\" class=\"data row0 col0\" >runs</td>\n",
              "            </tr>\n",
              "    </tbody></table>"
            ],
            "text/plain": [
              "<pandas.io.formats.style.Styler at 0x7f3798694450>"
            ]
          },
          "metadata": {
            "tags": []
          },
          "execution_count": 57
        }
      ]
    },
    {
      "cell_type": "code",
      "metadata": {
        "colab": {
          "base_uri": "https://localhost:8080/"
        },
        "id": "lqxlFpgtKCx7",
        "outputId": "b50580dc-ea17-4058-ed8a-87799eccdc38"
      },
      "source": [
        "print(corpus_test[indx], \"\\n==>\", corpus_test_target[indx], \"\\n==>\", list_emotions[predict_list[indx]])"
      ],
      "execution_count": 58,
      "outputs": [
        {
          "output_type": "stream",
          "text": [
            "the mac mini is about 8x smaller than my old computer which is a huge bonus and runs very quiet  actually the fans aren t audible unlike my old pc \n",
            "==> runs \n",
            "==> positive\n"
          ],
          "name": "stdout"
        }
      ]
    },
    {
      "cell_type": "markdown",
      "metadata": {
        "id": "DFwcCGR-cER7"
      },
      "source": [
        "# Restaurant "
      ]
    },
    {
      "cell_type": "code",
      "metadata": {
        "id": "b7OnGjT4cER8"
      },
      "source": [
        "corpus_train = simplify(train_rest['context'], train_rest['output'])\n",
        "corpus_test = simplify(test_rest['context'], test_rest['output'])"
      ],
      "execution_count": 59,
      "outputs": []
    },
    {
      "cell_type": "code",
      "metadata": {
        "id": "XCcqQE67cER8"
      },
      "source": [
        "embeddings_matrix, X_train_padded, X_test_padded, vocab_size = preprocessing(corpus_train, corpus_test, rest_glove)"
      ],
      "execution_count": 60,
      "outputs": []
    },
    {
      "cell_type": "code",
      "metadata": {
        "id": "JEP8XK59cER9"
      },
      "source": [
        "le = LabelEncoder()\n",
        "y_train_rest = le.fit_transform(train_rest['output'])\n",
        "y_test_rest = le.transform(test_rest['output'])\n",
        "num_classes = np.unique(y_train_rest).shape[0]\n",
        "y_train_rest1 = np_utils.to_categorical(y_train_rest, num_classes)\n",
        "y_test_rest1 = np_utils.to_categorical(y_test_rest, num_classes)"
      ],
      "execution_count": 61,
      "outputs": []
    },
    {
      "cell_type": "code",
      "metadata": {
        "colab": {
          "base_uri": "https://localhost:8080/"
        },
        "id": "fTb06dxAcER9",
        "outputId": "1dbc32a5-fa4c-438e-dd47-d41fb13f1c62"
      },
      "source": [
        "print(embeddings_matrix.shape, X_train_padded.shape, X_test_padded.shape, y_train_laptop1.shape)"
      ],
      "execution_count": null,
      "outputs": [
        {
          "output_type": "stream",
          "text": [
            "(3758, 300) (3608, 40) (1120, 40) (2328, 3)\n"
          ],
          "name": "stdout"
        }
      ]
    },
    {
      "cell_type": "code",
      "metadata": {
        "id": "LCVw4gyvcER9"
      },
      "source": [
        "corpus_train_target = simplify(train_rest['target'], train_rest['output'])\n",
        "corpus_test_target = simplify(test_rest['target'], test_rest['output'])"
      ],
      "execution_count": 62,
      "outputs": []
    },
    {
      "cell_type": "code",
      "metadata": {
        "id": "RGS0n_gZcER-"
      },
      "source": [
        "embeddings_matrix_target, X_train_padded_target, X_test_padded_target, vocab_size_target = preprocessing(corpus_train_target, corpus_test_target, rest_glove_target, max_sentence_length=15)"
      ],
      "execution_count": 63,
      "outputs": []
    },
    {
      "cell_type": "code",
      "metadata": {
        "colab": {
          "base_uri": "https://localhost:8080/"
        },
        "id": "0ENVT5O_cER-",
        "outputId": "51ecdba0-dbee-412d-cc93-87f58bac3615"
      },
      "source": [
        "print(embeddings_matrix_target.shape, X_train_padded_target.shape, X_test_padded_target.shape)"
      ],
      "execution_count": null,
      "outputs": [
        {
          "output_type": "stream",
          "text": [
            "(1140, 300) (3608, 15) (1120, 15)\n"
          ],
          "name": "stdout"
        }
      ]
    },
    {
      "cell_type": "code",
      "metadata": {
        "id": "slqE0V6rcER-"
      },
      "source": [
        "data = X_train_padded_target, X_train_padded, y_train_rest1, np.full((X_train_padded.shape[0],), 10.), np.full((X_train_padded.shape[0],), 40.)\n",
        "data_test = X_test_padded_target, X_test_padded, y_test_rest1, np.full((X_test_padded.shape[0],), 10.), np.full((X_test_padded.shape[0],), 40.)"
      ],
      "execution_count": 64,
      "outputs": []
    },
    {
      "cell_type": "markdown",
      "metadata": {
        "id": "YrhYZ_XR7RP-"
      },
      "source": [
        "## WithoutAttention Model"
      ]
    },
    {
      "cell_type": "code",
      "metadata": {
        "id": "oGJM6gMe7RQD"
      },
      "source": [
        "batch_size = 64\n",
        "learning_rate = 0.01\n",
        "n_epoch = 20"
      ],
      "execution_count": 39,
      "outputs": []
    },
    {
      "cell_type": "code",
      "metadata": {
        "colab": {
          "base_uri": "https://localhost:8080/"
        },
        "id": "1w61uDmN7RQE",
        "outputId": "a99f4efd-ff74-4aaf-dd9c-cf2c00a88acc"
      },
      "source": [
        "model_2 = WithoutAttention(embeddings_matrix, embeddings_matrix_target)\n",
        "train_accuracy, test_accuracy, train_loss, test_loss = run(model_2, data, data_test, stopping_accuracy=0.780)"
      ],
      "execution_count": 41,
      "outputs": [
        {
          "output_type": "stream",
          "text": [
            "Epoch 1/20 : 1.653sec\n",
            "===============>  train-loss=4.059271; train-acc=0.574777; validation-loss=0.642483; validation-acc=0.724265\n",
            "Classwise train accuracy: [0.374 0.273 0.739]\n",
            "Classwise test accuracy: [0.495 0.042 0.968]\n",
            "Epoch 2/20 : 1.599sec\n",
            "===============>  train-loss=0.659454; train-acc=0.725446; validation-loss=0.588866; validation-acc=0.746324\n",
            "Classwise train accuracy: [0.559 0.387 0.887]\n",
            "Classwise test accuracy: [0.436 0.2   0.975]\n",
            "Epoch 3/20 : 1.591sec\n",
            "===============>  train-loss=0.628632; train-acc=0.743583; validation-loss=0.584914; validation-acc=0.762868\n",
            "Classwise train accuracy: [0.574 0.437 0.898]\n",
            "Classwise test accuracy: [0.527 0.221 0.97 ]\n",
            "Epoch 4/20 : 1.546sec\n",
            "===============>  train-loss=0.507002; train-acc=0.793806; validation-loss=0.613706; validation-acc=0.760110\n",
            "Classwise train accuracy: [0.665 0.536 0.917]\n",
            "Classwise test accuracy: [0.601 0.253 0.938]\n",
            "Epoch 5/20 : 1.543sec\n",
            "===============>  train-loss=0.470087; train-acc=0.809152; validation-loss=0.698193; validation-acc=0.738051\n",
            "Classwise train accuracy: [0.711 0.568 0.916]\n",
            "Classwise test accuracy: [0.42  0.174 0.973]\n",
            "Epoch 6/20 : 1.560sec\n",
            "===============>  train-loss=0.424286; train-acc=0.835379; validation-loss=0.750463; validation-acc=0.730699\n",
            "Classwise train accuracy: [0.746 0.642 0.925]\n",
            "Classwise test accuracy: [0.383 0.163 0.975]\n",
            "Epoch 7/20 : 1.615sec\n",
            "===============>  train-loss=0.384769; train-acc=0.853516; validation-loss=0.620246; validation-acc=0.739890\n",
            "Classwise train accuracy: [0.772 0.682 0.934]\n",
            "Classwise test accuracy: [0.681 0.405 0.845]\n",
            "Epoch 8/20 : 1.636sec\n",
            "===============>  train-loss=0.328111; train-acc=0.876674; validation-loss=0.657061; validation-acc=0.757353\n",
            "Classwise train accuracy: [0.808 0.735 0.944]\n",
            "Classwise test accuracy: [0.617 0.395 0.892]\n",
            "Epoch 9/20 : 1.576sec\n",
            "===============>  train-loss=0.311556; train-acc=0.885045; validation-loss=0.765798; validation-acc=0.753676\n",
            "Classwise train accuracy: [0.821 0.758 0.946]\n",
            "Classwise test accuracy: [0.564 0.253 0.938]\n",
            "Epoch 10/20 : 1.575sec\n",
            "===============>  train-loss=0.348870; train-acc=0.864397; validation-loss=0.665605; validation-acc=0.760110\n",
            "Classwise train accuracy: [0.809 0.72  0.927]\n",
            "Classwise test accuracy: [0.649 0.368 0.894]\n",
            "Epoch 11/20 : 1.603sec\n",
            "===============>  train-loss=0.281776; train-acc=0.892857; validation-loss=0.720852; validation-acc=0.763787\n",
            "Classwise train accuracy: [0.841 0.793 0.942]\n",
            "Classwise test accuracy: [0.633 0.326 0.915]\n",
            "Epoch 12/20 : 1.600sec\n",
            "===============>  train-loss=0.252119; train-acc=0.909598; validation-loss=0.858120; validation-acc=0.753676\n",
            "Classwise train accuracy: [0.864 0.825 0.952]\n",
            "Classwise test accuracy: [0.612 0.216 0.935]\n",
            "Epoch 13/20 : 1.591sec\n",
            "===============>  train-loss=0.212463; train-acc=0.921038; validation-loss=0.958318; validation-acc=0.759191\n",
            "Classwise train accuracy: [0.881 0.84  0.96 ]\n",
            "Classwise test accuracy: [0.569 0.247 0.946]\n",
            "Epoch 14/20 : 1.555sec\n",
            "===============>  train-loss=0.209712; train-acc=0.919364; validation-loss=0.869675; validation-acc=0.742647\n",
            "Classwise train accuracy: [0.892 0.844 0.952]\n",
            "Classwise test accuracy: [0.473 0.311 0.93 ]\n",
            "Epoch 15/20 : 1.512sec\n",
            "===============>  train-loss=0.183394; train-acc=0.931362; validation-loss=0.841561; validation-acc=0.747243\n",
            "Classwise train accuracy: [0.911 0.869 0.957]\n",
            "Classwise test accuracy: [0.495 0.479 0.886]\n",
            "Epoch 16/20 : 1.531sec\n",
            "===============>  train-loss=0.201021; train-acc=0.924107; validation-loss=0.832926; validation-acc=0.750919\n",
            "Classwise train accuracy: [0.88  0.859 0.96 ]\n",
            "Classwise test accuracy: [0.564 0.426 0.887]\n",
            "Epoch 17/20 : 1.520sec\n",
            "===============>  train-loss=0.184151; train-acc=0.930804; validation-loss=1.021201; validation-acc=0.735294\n",
            "Classwise train accuracy: [0.898 0.867 0.962]\n",
            "Classwise test accuracy: [0.633 0.247 0.893]\n",
            "Epoch 18/20 : 1.495sec\n",
            "===============>  train-loss=0.181293; train-acc=0.931083; validation-loss=0.965423; validation-acc=0.758272\n",
            "Classwise train accuracy: [0.914 0.864 0.957]\n",
            "Classwise test accuracy: [0.59  0.253 0.938]\n",
            "Epoch 19/20 : 1.548sec\n",
            "===============>  train-loss=0.155438; train-acc=0.942801; validation-loss=1.202403; validation-acc=0.753676\n",
            "Classwise train accuracy: [0.914 0.893 0.968]\n",
            "Classwise test accuracy: [0.585 0.211 0.944]\n",
            "Epoch 20/20 : 1.544sec\n",
            "===============>  train-loss=0.151036; train-acc=0.944475; validation-loss=1.059147; validation-acc=0.752757\n",
            "Classwise train accuracy: [0.925 0.885 0.969]\n",
            "Classwise test accuracy: [0.543 0.247 0.944]\n",
            "\n",
            "\n",
            "The max accuracy of testing results: acc 0.764 of epoch 11\n"
          ],
          "name": "stdout"
        }
      ]
    },
    {
      "cell_type": "code",
      "metadata": {
        "colab": {
          "base_uri": "https://localhost:8080/",
          "height": 295
        },
        "id": "9cROMbH87zJM",
        "outputId": "34496f7d-31d1-48b1-bce7-321f0ee00388"
      },
      "source": [
        "plotting_epochs(train_accuracy, test_accuracy, 'Accuracy-Restaurant')"
      ],
      "execution_count": 42,
      "outputs": [
        {
          "output_type": "display_data",
          "data": {
            "image/png": "[encoded data removed]",
            "text/plain": [
              "<Figure size 432x288 with 1 Axes>"
            ]
          },
          "metadata": {
            "tags": [],
            "needs_background": "light"
          }
        }
      ]
    },
    {
      "cell_type": "markdown",
      "metadata": {
        "id": "TWFeSC7v7Ssc"
      },
      "source": [
        "## IAN Models"
      ]
    },
    {
      "cell_type": "code",
      "metadata": {
        "id": "5x9Dlt62cER-"
      },
      "source": [
        "batch_size = 64\n",
        "learning_rate = 0.01\n",
        "n_epoch = 20"
      ],
      "execution_count": 65,
      "outputs": []
    },
    {
      "cell_type": "code",
      "metadata": {
        "colab": {
          "base_uri": "https://localhost:8080/"
        },
        "id": "-VdLfjEtcER_",
        "outputId": "cf1bdd32-fe27-4639-bd5b-8d515556c82b"
      },
      "source": [
        "model_2 = IAN(embeddings_matrix, embeddings_matrix_target)\n",
        "train_accuracy, test_accuracy, train_loss, test_loss = run(model_2, data, data_test, stopping_accuracy=0.770)"
      ],
      "execution_count": null,
      "outputs": [
        {
          "output_type": "stream",
          "text": [
            "Epoch 1/20 : 2.092sec\n",
            "===============>  train-loss=0.864907; train-acc=0.636161; validation-loss=0.707815; validation-acc=0.737132\n",
            "Classwise train accuracy: [0.341 0.146 0.891]\n",
            "Classwise test accuracy: [0.596 0.016 0.968]\n",
            "Epoch 2/20 : 2.031sec\n",
            "===============>  train-loss=0.639775; train-acc=0.729353; validation-loss=0.561890; validation-acc=0.784007\n",
            "Classwise train accuracy: [0.615 0.321 0.892]\n",
            "Classwise test accuracy: [0.654 0.274 0.955]\n",
            "\n",
            "\n",
            "The max accuracy of testing results: acc 0.784 of epoch 2\n"
          ],
          "name": "stdout"
        }
      ]
    },
    {
      "cell_type": "code",
      "metadata": {
        "colab": {
          "base_uri": "https://localhost:8080/"
        },
        "id": "VjgWoyB4cER_",
        "outputId": "917d86fd-6dc5-478e-b443-ae1c3aca67c3"
      },
      "source": [
        "train_accuracy, test_accuracy, train_loss, test_loss = run(model_2, data, data_test, stopping_accuracy=0.780)"
      ],
      "execution_count": null,
      "outputs": [
        {
          "output_type": "stream",
          "text": [
            "Epoch 1/20 : 2.076sec\n",
            "===============>  train-loss=0.671765; train-acc=0.730748; validation-loss=0.585529; validation-acc=0.764706\n",
            "Classwise train accuracy: [0.584 0.342 0.9  ]\n",
            "Classwise test accuracy: [0.766 0.184 0.92 ]\n",
            "Epoch 2/20 : 2.032sec\n",
            "===============>  train-loss=0.534544; train-acc=0.780134; validation-loss=0.569321; validation-acc=0.773897\n",
            "Classwise train accuracy: [0.697 0.485 0.898]\n",
            "Classwise test accuracy: [0.649 0.221 0.955]\n",
            "Epoch 3/20 : 2.028sec\n",
            "===============>  train-loss=0.445573; train-acc=0.824219; validation-loss=0.622087; validation-acc=0.770221\n",
            "Classwise train accuracy: [0.763 0.583 0.918]\n",
            "Classwise test accuracy: [0.527 0.389 0.937]\n",
            "Epoch 4/20 : 2.029sec\n",
            "===============>  train-loss=0.371756; train-acc=0.855190; validation-loss=0.711405; validation-acc=0.755515\n",
            "Classwise train accuracy: [0.791 0.674 0.933]\n",
            "Classwise test accuracy: [0.574 0.2   0.952]\n",
            "Epoch 5/20 : 2.069sec\n",
            "===============>  train-loss=0.344121; train-acc=0.865792; validation-loss=0.705799; validation-acc=0.768382\n",
            "Classwise train accuracy: [0.812 0.693 0.936]\n",
            "Classwise test accuracy: [0.638 0.284 0.932]\n",
            "Epoch 6/20 : 2.060sec\n",
            "===============>  train-loss=0.272219; train-acc=0.893973; validation-loss=0.664911; validation-acc=0.770221\n",
            "Classwise train accuracy: [0.844 0.774 0.948]\n",
            "Classwise test accuracy: [0.676 0.305 0.92 ]\n",
            "Epoch 7/20 : 2.124sec\n",
            "===============>  train-loss=0.215566; train-acc=0.916295; validation-loss=0.861010; validation-acc=0.767463\n",
            "Classwise train accuracy: [0.879 0.825 0.957]\n",
            "Classwise test accuracy: [0.543 0.268 0.961]\n",
            "Epoch 8/20 : 2.028sec\n",
            "===============>  train-loss=0.186969; train-acc=0.929688; validation-loss=0.883882; validation-acc=0.752757\n",
            "Classwise train accuracy: [0.903 0.851 0.963]\n",
            "Classwise test accuracy: [0.713 0.226 0.904]\n",
            "Epoch 9/20 : 2.031sec\n",
            "===============>  train-loss=0.165132; train-acc=0.934710; validation-loss=0.859298; validation-acc=0.767463\n",
            "Classwise train accuracy: [0.911 0.873 0.962]\n",
            "Classwise test accuracy: [0.559 0.416 0.917]\n",
            "Epoch 10/20 : 2.058sec\n",
            "===============>  train-loss=0.160449; train-acc=0.937779; validation-loss=0.887294; validation-acc=0.775735\n",
            "Classwise train accuracy: [0.91  0.878 0.966]\n",
            "Classwise test accuracy: [0.612 0.347 0.934]\n",
            "Epoch 11/20 : 2.050sec\n",
            "===============>  train-loss=0.134201; train-acc=0.946987; validation-loss=0.912440; validation-acc=0.751838\n",
            "Classwise train accuracy: [0.929 0.893 0.97 ]\n",
            "Classwise test accuracy: [0.622 0.374 0.887]\n",
            "Epoch 12/20 : 2.042sec\n",
            "===============>  train-loss=0.109381; train-acc=0.960100; validation-loss=0.978568; validation-acc=0.745404\n",
            "Classwise train accuracy: [0.95  0.921 0.975]\n",
            "Classwise test accuracy: [0.702 0.4   0.849]\n",
            "Epoch 13/20 : 2.023sec\n",
            "===============>  train-loss=0.094540; train-acc=0.961217; validation-loss=1.094653; validation-acc=0.741728\n",
            "Classwise train accuracy: [0.949 0.914 0.98 ]\n",
            "Classwise test accuracy: [0.617 0.295 0.894]\n",
            "Epoch 14/20 : 2.022sec\n",
            "===============>  train-loss=0.090817; train-acc=0.964007; validation-loss=1.102083; validation-acc=0.755515\n",
            "Classwise train accuracy: [0.956 0.924 0.979]\n",
            "Classwise test accuracy: [0.601 0.358 0.903]\n",
            "Epoch 15/20 : 2.077sec\n",
            "===============>  train-loss=0.075765; train-acc=0.970145; validation-loss=1.125710; validation-acc=0.745404\n",
            "Classwise train accuracy: [0.963 0.934 0.984]\n",
            "Classwise test accuracy: [0.686 0.295 0.882]\n",
            "Epoch 16/20 : 2.053sec\n",
            "===============>  train-loss=0.074684; train-acc=0.973772; validation-loss=1.161378; validation-acc=0.749081\n",
            "Classwise train accuracy: [0.965 0.951 0.984]\n",
            "Classwise test accuracy: [0.734 0.326 0.866]\n",
            "Epoch 17/20 : 2.062sec\n",
            "===============>  train-loss=0.096207; train-acc=0.964286; validation-loss=1.095613; validation-acc=0.750919\n",
            "Classwise train accuracy: [0.952 0.922 0.981]\n",
            "Classwise test accuracy: [0.644 0.384 0.877]\n",
            "Epoch 18/20 : 2.033sec\n",
            "===============>  train-loss=0.117388; train-acc=0.954799; validation-loss=1.159064; validation-acc=0.758272\n",
            "Classwise train accuracy: [0.94  0.905 0.975]\n",
            "Classwise test accuracy: [0.633 0.305 0.913]\n",
            "Epoch 19/20 : 2.047sec\n",
            "===============>  train-loss=0.093758; train-acc=0.964565; validation-loss=1.168576; validation-acc=0.759191\n",
            "Classwise train accuracy: [0.957 0.921 0.98 ]\n",
            "Classwise test accuracy: [0.606 0.311 0.92 ]\n",
            "Epoch 20/20 : 2.131sec\n",
            "===============>  train-loss=0.120468; train-acc=0.961217; validation-loss=0.970537; validation-acc=0.764706\n",
            "Classwise train accuracy: [0.95  0.922 0.977]\n",
            "Classwise test accuracy: [0.596 0.347 0.921]\n",
            "\n",
            "\n",
            "The max accuracy of testing results: acc 0.776 of epoch 10\n"
          ],
          "name": "stdout"
        }
      ]
    },
    {
      "cell_type": "code",
      "metadata": {
        "colab": {
          "base_uri": "https://localhost:8080/"
        },
        "id": "4UoNdFN3cER_",
        "outputId": "92333c47-030f-49a6-f7b8-03a370e3281b"
      },
      "source": [
        "train_accuracy, test_accuracy, train_loss, test_loss = run(model_2, data, data_test, stopping_accuracy=0.775)"
      ],
      "execution_count": null,
      "outputs": [
        {
          "output_type": "stream",
          "text": [
            "Epoch 1/20 : 2.078sec\n",
            "===============>  train-loss=0.126346; train-acc=0.955078; validation-loss=1.240771; validation-acc=0.748162\n",
            "Classwise train accuracy: [0.932 0.919 0.974]\n",
            "Classwise test accuracy: [0.564 0.268 0.925]\n",
            "Epoch 2/20 : 2.042sec\n",
            "===============>  train-loss=0.067260; train-acc=0.976283; validation-loss=1.307230; validation-acc=0.747243\n",
            "Classwise train accuracy: [0.975 0.951 0.984]\n",
            "Classwise test accuracy: [0.569 0.321 0.908]\n",
            "Epoch 3/20 : 2.036sec\n",
            "===============>  train-loss=0.059509; train-acc=0.981027; validation-loss=1.384049; validation-acc=0.756434\n",
            "Classwise train accuracy: [0.979 0.952 0.99 ]\n",
            "Classwise test accuracy: [0.59  0.311 0.92 ]\n",
            "Epoch 4/20 : 2.010sec\n",
            "===============>  train-loss=0.040884; train-acc=0.986049; validation-loss=1.307591; validation-acc=0.751838\n",
            "Classwise train accuracy: [0.982 0.973 0.991]\n",
            "Classwise test accuracy: [0.612 0.368 0.892]\n",
            "Epoch 5/20 : 2.021sec\n",
            "===============>  train-loss=0.044584; train-acc=0.983817; validation-loss=1.513942; validation-acc=0.748162\n",
            "Classwise train accuracy: [0.98  0.962 0.992]\n",
            "Classwise test accuracy: [0.543 0.284 0.927]\n",
            "Epoch 6/20 : 2.051sec\n",
            "===============>  train-loss=0.037538; train-acc=0.988281; validation-loss=1.441575; validation-acc=0.747243\n",
            "Classwise train accuracy: [0.989 0.978 0.991]\n",
            "Classwise test accuracy: [0.644 0.353 0.88 ]\n",
            "Epoch 7/20 : 2.016sec\n",
            "===============>  train-loss=0.037500; train-acc=0.987444; validation-loss=1.435961; validation-acc=0.751838\n",
            "Classwise train accuracy: [0.989 0.973 0.991]\n",
            "Classwise test accuracy: [0.633 0.368 0.886]\n",
            "Epoch 8/20 : 2.009sec\n",
            "===============>  train-loss=0.033141; train-acc=0.988839; validation-loss=1.593132; validation-acc=0.751838\n",
            "Classwise train accuracy: [0.988 0.979 0.992]\n",
            "Classwise test accuracy: [0.681 0.316 0.887]\n",
            "Epoch 9/20 : 2.044sec\n",
            "===============>  train-loss=0.040273; train-acc=0.984933; validation-loss=1.474201; validation-acc=0.727941\n",
            "Classwise train accuracy: [0.978 0.965 0.993]\n",
            "Classwise test accuracy: [0.617 0.4   0.845]\n",
            "Epoch 10/20 : 2.041sec\n",
            "===============>  train-loss=0.058357; train-acc=0.979353; validation-loss=1.509617; validation-acc=0.733456\n",
            "Classwise train accuracy: [0.974 0.964 0.986]\n",
            "Classwise test accuracy: [0.495 0.384 0.89 ]\n",
            "Epoch 11/20 : 2.051sec\n",
            "===============>  train-loss=0.052268; train-acc=0.979911; validation-loss=1.592661; validation-acc=0.735294\n",
            "Classwise train accuracy: [0.973 0.957 0.989]\n",
            "Classwise test accuracy: [0.511 0.274 0.918]\n",
            "Epoch 12/20 : 2.027sec\n",
            "===============>  train-loss=0.089304; train-acc=0.971819; validation-loss=1.424722; validation-acc=0.750000\n",
            "Classwise train accuracy: [0.965 0.934 0.986]\n",
            "Classwise test accuracy: [0.67  0.3   0.892]\n",
            "Epoch 13/20 : 2.079sec\n",
            "===============>  train-loss=0.098344; train-acc=0.966518; validation-loss=1.359578; validation-acc=0.745404\n",
            "Classwise train accuracy: [0.955 0.929 0.982]\n",
            "Classwise test accuracy: [0.569 0.479 0.863]\n",
            "Epoch 14/20 : 2.001sec\n",
            "===============>  train-loss=0.114285; train-acc=0.960100; validation-loss=1.276538; validation-acc=0.717831\n",
            "Classwise train accuracy: [0.949 0.918 0.977]\n",
            "Classwise test accuracy: [0.654 0.574 0.773]\n",
            "Epoch 15/20 : 2.007sec\n",
            "===============>  train-loss=0.099200; train-acc=0.964565; validation-loss=1.266630; validation-acc=0.750000\n",
            "Classwise train accuracy: [0.961 0.921 0.979]\n",
            "Classwise test accuracy: [0.633 0.279 0.907]\n",
            "Epoch 16/20 : 2.024sec\n",
            "===============>  train-loss=0.051410; train-acc=0.980748; validation-loss=1.350246; validation-acc=0.754596\n",
            "Classwise train accuracy: [0.973 0.962 0.989]\n",
            "Classwise test accuracy: [0.601 0.405 0.889]\n",
            "Epoch 17/20 : 2.059sec\n",
            "===============>  train-loss=0.031880; train-acc=0.990513; validation-loss=1.471210; validation-acc=0.752757\n",
            "Classwise train accuracy: [0.989 0.979 0.994]\n",
            "Classwise test accuracy: [0.66  0.426 0.865]\n",
            "Epoch 18/20 : 2.042sec\n",
            "===============>  train-loss=0.034204; train-acc=0.988281; validation-loss=1.432409; validation-acc=0.756434\n",
            "Classwise train accuracy: [0.986 0.973 0.993]\n",
            "Classwise test accuracy: [0.58  0.411 0.896]\n",
            "Epoch 19/20 : 2.043sec\n",
            "===============>  train-loss=0.037126; train-acc=0.986607; validation-loss=1.433696; validation-acc=0.767463\n",
            "Classwise train accuracy: [0.98  0.979 0.991]\n",
            "Classwise test accuracy: [0.638 0.363 0.91 ]\n",
            "Epoch 20/20 : 2.013sec\n",
            "===============>  train-loss=0.028516; train-acc=0.989955; validation-loss=1.484256; validation-acc=0.761949\n",
            "Classwise train accuracy: [0.989 0.981 0.993]\n",
            "Classwise test accuracy: [0.665 0.326 0.904]\n",
            "\n",
            "\n",
            "The max accuracy of testing results: acc 0.767 of epoch 19\n"
          ],
          "name": "stdout"
        }
      ]
    },
    {
      "cell_type": "code",
      "metadata": {
        "colab": {
          "base_uri": "https://localhost:8080/"
        },
        "id": "ivNxvyvjcER_",
        "outputId": "8c1e7986-f526-460b-bc29-73099c013aab"
      },
      "source": [
        "model_2.save('/content/drive/MyDrive/DL/Assignment_4/Q2_model_rest', save_format=\"tf\")"
      ],
      "execution_count": null,
      "outputs": [
        {
          "output_type": "stream",
          "text": [
            "WARNING:absl:Found untraced functions such as lstm_cell_18_layer_call_fn, lstm_cell_18_layer_call_and_return_conditional_losses, lstm_cell_19_layer_call_fn, lstm_cell_19_layer_call_and_return_conditional_losses, lstm_cell_18_layer_call_fn while saving (showing 5 of 10). These functions will not be directly callable after loading.\n",
            "WARNING:absl:Found untraced functions such as lstm_cell_18_layer_call_fn, lstm_cell_18_layer_call_and_return_conditional_losses, lstm_cell_19_layer_call_fn, lstm_cell_19_layer_call_and_return_conditional_losses, lstm_cell_18_layer_call_fn while saving (showing 5 of 10). These functions will not be directly callable after loading.\n"
          ],
          "name": "stderr"
        },
        {
          "output_type": "stream",
          "text": [
            "INFO:tensorflow:Assets written to: /content/drive/MyDrive/DL/Assignment_4/Q2_model_rest/assets\n"
          ],
          "name": "stdout"
        },
        {
          "output_type": "stream",
          "text": [
            "INFO:tensorflow:Assets written to: /content/drive/MyDrive/DL/Assignment_4/Q2_model_rest/assets\n"
          ],
          "name": "stderr"
        }
      ]
    },
    {
      "cell_type": "code",
      "metadata": {
        "colab": {
          "base_uri": "https://localhost:8080/"
        },
        "id": "-uAsSrXacESA",
        "outputId": "0166f28e-3e9a-49e5-b516-5aaa7861c929"
      },
      "source": [
        "model2 = load_model('/content/drive/MyDrive/DL/Assignment_4/Q2_model_rest')"
      ],
      "execution_count": 66,
      "outputs": [
        {
          "output_type": "stream",
          "text": [
            "WARNING:tensorflow:No training configuration found in save file, so the model was *not* compiled. Compile it manually.\n"
          ],
          "name": "stdout"
        }
      ]
    },
    {
      "cell_type": "code",
      "metadata": {
        "colab": {
          "base_uri": "https://localhost:8080/"
        },
        "id": "P1cDLD2bcESA",
        "outputId": "6be7400a-1474-4463-d78b-e2d1e848e033"
      },
      "source": [
        "run(model2, data, data_test, run_only='test')"
      ],
      "execution_count": 67,
      "outputs": [
        {
          "output_type": "stream",
          "text": [
            "Time: 0.381sec\n",
            "===============>  validation-loss=0.561695; validation-acc=0.783088\n",
            "Classwise test accuracy: [0.654 0.274 0.954]\n"
          ],
          "name": "stdout"
        }
      ]
    },
    {
      "cell_type": "code",
      "metadata": {
        "id": "fAS9fsr_cESA"
      },
      "source": [
        "data_test111 = X_test_padded_target[:64], X_test_padded[:64], y_test_laptop1[:64], np.full((64,), 15.), np.full((64,), 40.)\n",
        "pred, lbl, att_aspect, att_context = model2(data_test111)"
      ],
      "execution_count": 68,
      "outputs": []
    },
    {
      "cell_type": "code",
      "metadata": {
        "id": "TMQ84ZFkKc8e"
      },
      "source": [
        "predict_list, labels_list = [], []\n",
        "predict_list.extend(tf.argmax(tf.nn.softmax(pred), 1).numpy())\n",
        "labels_list.extend(tf.argmax(lbl, 1).numpy())"
      ],
      "execution_count": 69,
      "outputs": []
    },
    {
      "cell_type": "markdown",
      "metadata": {
        "id": "NVpYs1awKuKh"
      },
      "source": [
        "### For 1st input, attention weights results"
      ]
    },
    {
      "cell_type": "code",
      "metadata": {
        "id": "SyBqRxeGKuKh"
      },
      "source": [
        "indx = 0"
      ],
      "execution_count": 70,
      "outputs": []
    },
    {
      "cell_type": "code",
      "metadata": {
        "colab": {
          "base_uri": "https://localhost:8080/",
          "height": 61
        },
        "id": "ZeMz3HCNKuKh",
        "outputId": "69f87401-e123-4db9-8891-9a55b62c124e"
      },
      "source": [
        "tokenized_text, attention_output = getting_attention_weights(X_test_padded, corpus_test, att_context.numpy(), indx)\n",
        "char_vals = [CharVal(c, v) for c, v in zip(tokenized_text, attention_output)]\n",
        "char_df = pd.DataFrame(char_vals).transpose()\n",
        "char_df = char_df.style.applymap(color_charvals)\n",
        "char_df"
      ],
      "execution_count": 71,
      "outputs": [
        {
          "output_type": "execute_result",
          "data": {
            "text/html": [
              "<style  type=\"text/css\" >\n",
              "#T_9408e46a_9f5f_11eb_8e3b_0242ac1c0002row0_col0{\n",
              "            background-color:  #ffe7e7;\n",
              "        }#T_9408e46a_9f5f_11eb_8e3b_0242ac1c0002row0_col1{\n",
              "            background-color:  #ffd7d7;\n",
              "        }#T_9408e46a_9f5f_11eb_8e3b_0242ac1c0002row0_col2{\n",
              "            background-color:  #ffbaba;\n",
              "        }#T_9408e46a_9f5f_11eb_8e3b_0242ac1c0002row0_col3{\n",
              "            background-color:  #ff7575;\n",
              "        }#T_9408e46a_9f5f_11eb_8e3b_0242ac1c0002row0_col4,#T_9408e46a_9f5f_11eb_8e3b_0242ac1c0002row0_col5{\n",
              "            background-color:  #ff7474;\n",
              "        }</style><table id=\"T_9408e46a_9f5f_11eb_8e3b_0242ac1c0002\" ><thead>    <tr>        <th class=\"blank level0\" ></th>        <th class=\"col_heading level0 col0\" >0</th>        <th class=\"col_heading level0 col1\" >1</th>        <th class=\"col_heading level0 col2\" >2</th>        <th class=\"col_heading level0 col3\" >3</th>        <th class=\"col_heading level0 col4\" >4</th>        <th class=\"col_heading level0 col5\" >5</th>    </tr></thead><tbody>\n",
              "                <tr>\n",
              "                        <th id=\"T_9408e46a_9f5f_11eb_8e3b_0242ac1c0002level0_row0\" class=\"row_heading level0 row0\" >0</th>\n",
              "                        <td id=\"T_9408e46a_9f5f_11eb_8e3b_0242ac1c0002row0_col0\" class=\"data row0 col0\" >however</td>\n",
              "                        <td id=\"T_9408e46a_9f5f_11eb_8e3b_0242ac1c0002row0_col1\" class=\"data row0 col1\" >the</td>\n",
              "                        <td id=\"T_9408e46a_9f5f_11eb_8e3b_0242ac1c0002row0_col2\" class=\"data row0 col2\" >service</td>\n",
              "                        <td id=\"T_9408e46a_9f5f_11eb_8e3b_0242ac1c0002row0_col3\" class=\"data row0 col3\" >is</td>\n",
              "                        <td id=\"T_9408e46a_9f5f_11eb_8e3b_0242ac1c0002row0_col4\" class=\"data row0 col4\" >absolutely</td>\n",
              "                        <td id=\"T_9408e46a_9f5f_11eb_8e3b_0242ac1c0002row0_col5\" class=\"data row0 col5\" >horrible</td>\n",
              "            </tr>\n",
              "    </tbody></table>"
            ],
            "text/plain": [
              "<pandas.io.formats.style.Styler at 0x7f371c39fd10>"
            ]
          },
          "metadata": {
            "tags": []
          },
          "execution_count": 71
        }
      ]
    },
    {
      "cell_type": "code",
      "metadata": {
        "colab": {
          "base_uri": "https://localhost:8080/",
          "height": 61
        },
        "id": "t4BYMMhVKuKi",
        "outputId": "af619d76-5cbe-4dcb-9fe0-4bfaac4255cd"
      },
      "source": [
        "tokenized_text, attention_output = getting_attention_weights(X_test_padded_target, corpus_test_target, att_aspect.numpy(), indx)\n",
        "char_vals = [CharVal(c, v) for c, v in zip(tokenized_text, attention_output)]\n",
        "char_df = pd.DataFrame(char_vals).transpose()\n",
        "char_df = char_df.style.applymap(color_charvals)\n",
        "char_df"
      ],
      "execution_count": 72,
      "outputs": [
        {
          "output_type": "execute_result",
          "data": {
            "text/html": [
              "<style  type=\"text/css\" >\n",
              "#T_940c0f64_9f5f_11eb_8e3b_0242ac1c0002row0_col0{\n",
              "            background-color:  #ff0000;\n",
              "        }</style><table id=\"T_940c0f64_9f5f_11eb_8e3b_0242ac1c0002\" ><thead>    <tr>        <th class=\"blank level0\" ></th>        <th class=\"col_heading level0 col0\" >0</th>    </tr></thead><tbody>\n",
              "                <tr>\n",
              "                        <th id=\"T_940c0f64_9f5f_11eb_8e3b_0242ac1c0002level0_row0\" class=\"row_heading level0 row0\" >0</th>\n",
              "                        <td id=\"T_940c0f64_9f5f_11eb_8e3b_0242ac1c0002row0_col0\" class=\"data row0 col0\" >service</td>\n",
              "            </tr>\n",
              "    </tbody></table>"
            ],
            "text/plain": [
              "<pandas.io.formats.style.Styler at 0x7f371c382910>"
            ]
          },
          "metadata": {
            "tags": []
          },
          "execution_count": 72
        }
      ]
    },
    {
      "cell_type": "code",
      "metadata": {
        "colab": {
          "base_uri": "https://localhost:8080/"
        },
        "id": "bntSIuEUKuKj",
        "outputId": "cbf81882-b126-4ff6-d6b7-25685cc8ffc6"
      },
      "source": [
        "print(corpus_test[indx], \"\\n==>\", corpus_test_target[indx], \"\\n==>\", list_emotions[predict_list[indx]])"
      ],
      "execution_count": 73,
      "outputs": [
        {
          "output_type": "stream",
          "text": [
            "however  the service is absolutely horrible  \n",
            "==> service \n",
            "==> negative\n"
          ],
          "name": "stdout"
        }
      ]
    },
    {
      "cell_type": "markdown",
      "metadata": {
        "id": "d90ZCdlBKz1W"
      },
      "source": [
        "### For 2nd input, attention weights results"
      ]
    },
    {
      "cell_type": "code",
      "metadata": {
        "id": "TTqLj0vPKz1W"
      },
      "source": [
        "indx = 20"
      ],
      "execution_count": 74,
      "outputs": []
    },
    {
      "cell_type": "code",
      "metadata": {
        "colab": {
          "base_uri": "https://localhost:8080/",
          "height": 61
        },
        "id": "baTGUb5lKz1X",
        "outputId": "e64fde09-d95b-451e-ab49-b453da6ab898"
      },
      "source": [
        "tokenized_text, attention_output = getting_attention_weights(X_test_padded, corpus_test, att_context.numpy(), indx)\n",
        "char_vals = [CharVal(c, v) for c, v in zip(tokenized_text, attention_output)]\n",
        "char_df = pd.DataFrame(char_vals).transpose()\n",
        "char_df = char_df.style.applymap(color_charvals)\n",
        "char_df"
      ],
      "execution_count": 75,
      "outputs": [
        {
          "output_type": "execute_result",
          "data": {
            "text/html": [
              "<style  type=\"text/css\" >\n",
              "#T_a436b646_9f5f_11eb_8e3b_0242ac1c0002row0_col0{\n",
              "            background-color:  #fff0f0;\n",
              "        }#T_a436b646_9f5f_11eb_8e3b_0242ac1c0002row0_col1{\n",
              "            background-color:  #ffe5e5;\n",
              "        }#T_a436b646_9f5f_11eb_8e3b_0242ac1c0002row0_col2{\n",
              "            background-color:  #ffe2e2;\n",
              "        }#T_a436b646_9f5f_11eb_8e3b_0242ac1c0002row0_col3{\n",
              "            background-color:  #ffd9d9;\n",
              "        }#T_a436b646_9f5f_11eb_8e3b_0242ac1c0002row0_col4,#T_a436b646_9f5f_11eb_8e3b_0242ac1c0002row0_col5,#T_a436b646_9f5f_11eb_8e3b_0242ac1c0002row0_col6,#T_a436b646_9f5f_11eb_8e3b_0242ac1c0002row0_col14{\n",
              "            background-color:  #ffc5c5;\n",
              "        }#T_a436b646_9f5f_11eb_8e3b_0242ac1c0002row0_col7,#T_a436b646_9f5f_11eb_8e3b_0242ac1c0002row0_col15{\n",
              "            background-color:  #ffc7c7;\n",
              "        }#T_a436b646_9f5f_11eb_8e3b_0242ac1c0002row0_col8{\n",
              "            background-color:  #ffcaca;\n",
              "        }#T_a436b646_9f5f_11eb_8e3b_0242ac1c0002row0_col9{\n",
              "            background-color:  #ffcece;\n",
              "        }#T_a436b646_9f5f_11eb_8e3b_0242ac1c0002row0_col10,#T_a436b646_9f5f_11eb_8e3b_0242ac1c0002row0_col11,#T_a436b646_9f5f_11eb_8e3b_0242ac1c0002row0_col12,#T_a436b646_9f5f_11eb_8e3b_0242ac1c0002row0_col13{\n",
              "            background-color:  #ffc4c4;\n",
              "        }#T_a436b646_9f5f_11eb_8e3b_0242ac1c0002row0_col16,#T_a436b646_9f5f_11eb_8e3b_0242ac1c0002row0_col17,#T_a436b646_9f5f_11eb_8e3b_0242ac1c0002row0_col18,#T_a436b646_9f5f_11eb_8e3b_0242ac1c0002row0_col19{\n",
              "            background-color:  #ffc6c6;\n",
              "        }#T_a436b646_9f5f_11eb_8e3b_0242ac1c0002row0_col20{\n",
              "            background-color:  #ffcbcb;\n",
              "        }#T_a436b646_9f5f_11eb_8e3b_0242ac1c0002row0_col21,#T_a436b646_9f5f_11eb_8e3b_0242ac1c0002row0_col22{\n",
              "            background-color:  #ffc8c8;\n",
              "        }</style><table id=\"T_a436b646_9f5f_11eb_8e3b_0242ac1c0002\" ><thead>    <tr>        <th class=\"blank level0\" ></th>        <th class=\"col_heading level0 col0\" >0</th>        <th class=\"col_heading level0 col1\" >1</th>        <th class=\"col_heading level0 col2\" >2</th>        <th class=\"col_heading level0 col3\" >3</th>        <th class=\"col_heading level0 col4\" >4</th>        <th class=\"col_heading level0 col5\" >5</th>        <th class=\"col_heading level0 col6\" >6</th>        <th class=\"col_heading level0 col7\" >7</th>        <th class=\"col_heading level0 col8\" >8</th>        <th class=\"col_heading level0 col9\" >9</th>        <th class=\"col_heading level0 col10\" >10</th>        <th class=\"col_heading level0 col11\" >11</th>        <th class=\"col_heading level0 col12\" >12</th>        <th class=\"col_heading level0 col13\" >13</th>        <th class=\"col_heading level0 col14\" >14</th>        <th class=\"col_heading level0 col15\" >15</th>        <th class=\"col_heading level0 col16\" >16</th>        <th class=\"col_heading level0 col17\" >17</th>        <th class=\"col_heading level0 col18\" >18</th>        <th class=\"col_heading level0 col19\" >19</th>        <th class=\"col_heading level0 col20\" >20</th>        <th class=\"col_heading level0 col21\" >21</th>        <th class=\"col_heading level0 col22\" >22</th>    </tr></thead><tbody>\n",
              "                <tr>\n",
              "                        <th id=\"T_a436b646_9f5f_11eb_8e3b_0242ac1c0002level0_row0\" class=\"row_heading level0 row0\" >0</th>\n",
              "                        <td id=\"T_a436b646_9f5f_11eb_8e3b_0242ac1c0002row0_col0\" class=\"data row0 col0\" >rice</td>\n",
              "                        <td id=\"T_a436b646_9f5f_11eb_8e3b_0242ac1c0002row0_col1\" class=\"data row0 col1\" >dishes</td>\n",
              "                        <td id=\"T_a436b646_9f5f_11eb_8e3b_0242ac1c0002row0_col2\" class=\"data row0 col2\" >and</td>\n",
              "                        <td id=\"T_a436b646_9f5f_11eb_8e3b_0242ac1c0002row0_col3\" class=\"data row0 col3\" >noodle</td>\n",
              "                        <td id=\"T_a436b646_9f5f_11eb_8e3b_0242ac1c0002row0_col4\" class=\"data row0 col4\" >dishes</td>\n",
              "                        <td id=\"T_a436b646_9f5f_11eb_8e3b_0242ac1c0002row0_col5\" class=\"data row0 col5\" >rarely</td>\n",
              "                        <td id=\"T_a436b646_9f5f_11eb_8e3b_0242ac1c0002row0_col6\" class=\"data row0 col6\" >exceed</td>\n",
              "                        <td id=\"T_a436b646_9f5f_11eb_8e3b_0242ac1c0002row0_col7\" class=\"data row0 col7\" >5</td>\n",
              "                        <td id=\"T_a436b646_9f5f_11eb_8e3b_0242ac1c0002row0_col8\" class=\"data row0 col8\" >and</td>\n",
              "                        <td id=\"T_a436b646_9f5f_11eb_8e3b_0242ac1c0002row0_col9\" class=\"data row0 col9\" >add</td>\n",
              "                        <td id=\"T_a436b646_9f5f_11eb_8e3b_0242ac1c0002row0_col10\" class=\"data row0 col10\" >on</td>\n",
              "                        <td id=\"T_a436b646_9f5f_11eb_8e3b_0242ac1c0002row0_col11\" class=\"data row0 col11\" >a</td>\n",
              "                        <td id=\"T_a436b646_9f5f_11eb_8e3b_0242ac1c0002row0_col12\" class=\"data row0 col12\" >refreshing</td>\n",
              "                        <td id=\"T_a436b646_9f5f_11eb_8e3b_0242ac1c0002row0_col13\" class=\"data row0 col13\" >ice</td>\n",
              "                        <td id=\"T_a436b646_9f5f_11eb_8e3b_0242ac1c0002row0_col14\" class=\"data row0 col14\" >drink</td>\n",
              "                        <td id=\"T_a436b646_9f5f_11eb_8e3b_0242ac1c0002row0_col15\" class=\"data row0 col15\" >for</td>\n",
              "                        <td id=\"T_a436b646_9f5f_11eb_8e3b_0242ac1c0002row0_col16\" class=\"data row0 col16\" >2</td>\n",
              "                        <td id=\"T_a436b646_9f5f_11eb_8e3b_0242ac1c0002row0_col17\" class=\"data row0 col17\" >and</td>\n",
              "                        <td id=\"T_a436b646_9f5f_11eb_8e3b_0242ac1c0002row0_col18\" class=\"data row0 col18\" >you</td>\n",
              "                        <td id=\"T_a436b646_9f5f_11eb_8e3b_0242ac1c0002row0_col19\" class=\"data row0 col19\" >re</td>\n",
              "                        <td id=\"T_a436b646_9f5f_11eb_8e3b_0242ac1c0002row0_col20\" class=\"data row0 col20\" >set</td>\n",
              "                        <td id=\"T_a436b646_9f5f_11eb_8e3b_0242ac1c0002row0_col21\" class=\"data row0 col21\" >for</td>\n",
              "                        <td id=\"T_a436b646_9f5f_11eb_8e3b_0242ac1c0002row0_col22\" class=\"data row0 col22\" >the</td>\n",
              "            </tr>\n",
              "    </tbody></table>"
            ],
            "text/plain": [
              "<pandas.io.formats.style.Styler at 0x7f3798694e50>"
            ]
          },
          "metadata": {
            "tags": []
          },
          "execution_count": 75
        }
      ]
    },
    {
      "cell_type": "code",
      "metadata": {
        "colab": {
          "base_uri": "https://localhost:8080/",
          "height": 61
        },
        "id": "bpaiirVYKz1X",
        "outputId": "64b333af-a51d-4ee1-d733-65a2b9039b6f"
      },
      "source": [
        "tokenized_text, attention_output = getting_attention_weights(X_test_padded_target, corpus_test_target, att_aspect.numpy(), indx)\n",
        "char_vals = [CharVal(c, v) for c, v in zip(tokenized_text, attention_output)]\n",
        "char_df = pd.DataFrame(char_vals).transpose()\n",
        "char_df = char_df.style.applymap(color_charvals)\n",
        "char_df"
      ],
      "execution_count": 76,
      "outputs": [
        {
          "output_type": "execute_result",
          "data": {
            "text/html": [
              "<style  type=\"text/css\" >\n",
              "#T_a43af44a_9f5f_11eb_8e3b_0242ac1c0002row0_col0{\n",
              "            background-color:  #ff4b4b;\n",
              "        }#T_a43af44a_9f5f_11eb_8e3b_0242ac1c0002row0_col1{\n",
              "            background-color:  #ff4c4c;\n",
              "        }</style><table id=\"T_a43af44a_9f5f_11eb_8e3b_0242ac1c0002\" ><thead>    <tr>        <th class=\"blank level0\" ></th>        <th class=\"col_heading level0 col0\" >0</th>        <th class=\"col_heading level0 col1\" >1</th>    </tr></thead><tbody>\n",
              "                <tr>\n",
              "                        <th id=\"T_a43af44a_9f5f_11eb_8e3b_0242ac1c0002level0_row0\" class=\"row_heading level0 row0\" >0</th>\n",
              "                        <td id=\"T_a43af44a_9f5f_11eb_8e3b_0242ac1c0002row0_col0\" class=\"data row0 col0\" >noodle</td>\n",
              "                        <td id=\"T_a43af44a_9f5f_11eb_8e3b_0242ac1c0002row0_col1\" class=\"data row0 col1\" >dishes</td>\n",
              "            </tr>\n",
              "    </tbody></table>"
            ],
            "text/plain": [
              "<pandas.io.formats.style.Styler at 0x7f371c34f450>"
            ]
          },
          "metadata": {
            "tags": []
          },
          "execution_count": 76
        }
      ]
    },
    {
      "cell_type": "code",
      "metadata": {
        "colab": {
          "base_uri": "https://localhost:8080/"
        },
        "id": "CIo4AxB_Kz1Y",
        "outputId": "a1666f4d-34a7-424a-af9c-89719080d97e"
      },
      "source": [
        "print(corpus_test[indx], \"\\n==>\", corpus_test_target[indx], \"\\n==>\", list_emotions[predict_list[indx]])"
      ],
      "execution_count": 77,
      "outputs": [
        {
          "output_type": "stream",
          "text": [
            "rice dishes and noodle dishes rarely exceed  5 and add on a refreshing ice drink for  2 and you re set for the night  \n",
            "==> noodle dishes \n",
            "==> positive\n"
          ],
          "name": "stdout"
        }
      ]
    },
    {
      "cell_type": "markdown",
      "metadata": {
        "id": "nnuz4H49K_SZ"
      },
      "source": [
        "### For 3rd input, attention weights results"
      ]
    },
    {
      "cell_type": "code",
      "metadata": {
        "id": "4cmY-HbAK_Sb"
      },
      "source": [
        "indx = 10"
      ],
      "execution_count": 78,
      "outputs": []
    },
    {
      "cell_type": "code",
      "metadata": {
        "colab": {
          "base_uri": "https://localhost:8080/",
          "height": 61
        },
        "id": "2Lk4hbfXK_Sc",
        "outputId": "b14a568a-aed3-493b-82e5-d5463f148188"
      },
      "source": [
        "tokenized_text, attention_output = getting_attention_weights(X_test_padded, corpus_test, att_context.numpy(), indx)\n",
        "char_vals = [CharVal(c, v) for c, v in zip(tokenized_text, attention_output)]\n",
        "char_df = pd.DataFrame(char_vals).transpose()\n",
        "char_df = char_df.style.applymap(color_charvals)\n",
        "char_df"
      ],
      "execution_count": 79,
      "outputs": [
        {
          "output_type": "execute_result",
          "data": {
            "text/html": [
              "<style  type=\"text/css\" >\n",
              "#T_c0fe24e4_9f5f_11eb_8e3b_0242ac1c0002row0_col0{\n",
              "            background-color:  #ffefef;\n",
              "        }#T_c0fe24e4_9f5f_11eb_8e3b_0242ac1c0002row0_col1{\n",
              "            background-color:  #ffe5e5;\n",
              "        }#T_c0fe24e4_9f5f_11eb_8e3b_0242ac1c0002row0_col2,#T_c0fe24e4_9f5f_11eb_8e3b_0242ac1c0002row0_col9{\n",
              "            background-color:  #ffb1b1;\n",
              "        }#T_c0fe24e4_9f5f_11eb_8e3b_0242ac1c0002row0_col3,#T_c0fe24e4_9f5f_11eb_8e3b_0242ac1c0002row0_col4,#T_c0fe24e4_9f5f_11eb_8e3b_0242ac1c0002row0_col5,#T_c0fe24e4_9f5f_11eb_8e3b_0242ac1c0002row0_col6,#T_c0fe24e4_9f5f_11eb_8e3b_0242ac1c0002row0_col7,#T_c0fe24e4_9f5f_11eb_8e3b_0242ac1c0002row0_col10,#T_c0fe24e4_9f5f_11eb_8e3b_0242ac1c0002row0_col11{\n",
              "            background-color:  #ffafaf;\n",
              "        }#T_c0fe24e4_9f5f_11eb_8e3b_0242ac1c0002row0_col8{\n",
              "            background-color:  #ffb0b0;\n",
              "        }</style><table id=\"T_c0fe24e4_9f5f_11eb_8e3b_0242ac1c0002\" ><thead>    <tr>        <th class=\"blank level0\" ></th>        <th class=\"col_heading level0 col0\" >0</th>        <th class=\"col_heading level0 col1\" >1</th>        <th class=\"col_heading level0 col2\" >2</th>        <th class=\"col_heading level0 col3\" >3</th>        <th class=\"col_heading level0 col4\" >4</th>        <th class=\"col_heading level0 col5\" >5</th>        <th class=\"col_heading level0 col6\" >6</th>        <th class=\"col_heading level0 col7\" >7</th>        <th class=\"col_heading level0 col8\" >8</th>        <th class=\"col_heading level0 col9\" >9</th>        <th class=\"col_heading level0 col10\" >10</th>        <th class=\"col_heading level0 col11\" >11</th>    </tr></thead><tbody>\n",
              "                <tr>\n",
              "                        <th id=\"T_c0fe24e4_9f5f_11eb_8e3b_0242ac1c0002level0_row0\" class=\"row_heading level0 row0\" >0</th>\n",
              "                        <td id=\"T_c0fe24e4_9f5f_11eb_8e3b_0242ac1c0002row0_col0\" class=\"data row0 col0\" >the</td>\n",
              "                        <td id=\"T_c0fe24e4_9f5f_11eb_8e3b_0242ac1c0002row0_col1\" class=\"data row0 col1\" >service</td>\n",
              "                        <td id=\"T_c0fe24e4_9f5f_11eb_8e3b_0242ac1c0002row0_col2\" class=\"data row0 col2\" >is</td>\n",
              "                        <td id=\"T_c0fe24e4_9f5f_11eb_8e3b_0242ac1c0002row0_col3\" class=\"data row0 col3\" >really</td>\n",
              "                        <td id=\"T_c0fe24e4_9f5f_11eb_8e3b_0242ac1c0002row0_col4\" class=\"data row0 col4\" >fast</td>\n",
              "                        <td id=\"T_c0fe24e4_9f5f_11eb_8e3b_0242ac1c0002row0_col5\" class=\"data row0 col5\" >and</td>\n",
              "                        <td id=\"T_c0fe24e4_9f5f_11eb_8e3b_0242ac1c0002row0_col6\" class=\"data row0 col6\" >friendly</td>\n",
              "                        <td id=\"T_c0fe24e4_9f5f_11eb_8e3b_0242ac1c0002row0_col7\" class=\"data row0 col7\" >and</td>\n",
              "                        <td id=\"T_c0fe24e4_9f5f_11eb_8e3b_0242ac1c0002row0_col8\" class=\"data row0 col8\" >the</td>\n",
              "                        <td id=\"T_c0fe24e4_9f5f_11eb_8e3b_0242ac1c0002row0_col9\" class=\"data row0 col9\" >value</td>\n",
              "                        <td id=\"T_c0fe24e4_9f5f_11eb_8e3b_0242ac1c0002row0_col10\" class=\"data row0 col10\" >is</td>\n",
              "                        <td id=\"T_c0fe24e4_9f5f_11eb_8e3b_0242ac1c0002row0_col11\" class=\"data row0 col11\" >great</td>\n",
              "            </tr>\n",
              "    </tbody></table>"
            ],
            "text/plain": [
              "<pandas.io.formats.style.Styler at 0x7f371c3a3510>"
            ]
          },
          "metadata": {
            "tags": []
          },
          "execution_count": 79
        }
      ]
    },
    {
      "cell_type": "code",
      "metadata": {
        "colab": {
          "base_uri": "https://localhost:8080/",
          "height": 61
        },
        "id": "1UIP-eXmK_Sd",
        "outputId": "f63d98a5-b3a0-47b2-bbb5-b6909f1cfd47"
      },
      "source": [
        "tokenized_text, attention_output = getting_attention_weights(X_test_padded_target, corpus_test_target, att_aspect.numpy(), indx)\n",
        "char_vals = [CharVal(c, v) for c, v in zip(tokenized_text, attention_output)]\n",
        "char_df = pd.DataFrame(char_vals).transpose()\n",
        "char_df = char_df.style.applymap(color_charvals)\n",
        "char_df"
      ],
      "execution_count": 80,
      "outputs": [
        {
          "output_type": "execute_result",
          "data": {
            "text/html": [
              "<style  type=\"text/css\" >\n",
              "#T_c100870c_9f5f_11eb_8e3b_0242ac1c0002row0_col0{\n",
              "            background-color:  #ff0000;\n",
              "        }</style><table id=\"T_c100870c_9f5f_11eb_8e3b_0242ac1c0002\" ><thead>    <tr>        <th class=\"blank level0\" ></th>        <th class=\"col_heading level0 col0\" >0</th>    </tr></thead><tbody>\n",
              "                <tr>\n",
              "                        <th id=\"T_c100870c_9f5f_11eb_8e3b_0242ac1c0002level0_row0\" class=\"row_heading level0 row0\" >0</th>\n",
              "                        <td id=\"T_c100870c_9f5f_11eb_8e3b_0242ac1c0002row0_col0\" class=\"data row0 col0\" >value</td>\n",
              "            </tr>\n",
              "    </tbody></table>"
            ],
            "text/plain": [
              "<pandas.io.formats.style.Styler at 0x7f371c2958d0>"
            ]
          },
          "metadata": {
            "tags": []
          },
          "execution_count": 80
        }
      ]
    },
    {
      "cell_type": "code",
      "metadata": {
        "colab": {
          "base_uri": "https://localhost:8080/"
        },
        "id": "2szsMspMK_Sd",
        "outputId": "534b2083-a842-46d6-f64b-f47d47202239"
      },
      "source": [
        "print(corpus_test[indx], \"\\n==>\", corpus_test_target[indx], \"\\n==>\", list_emotions[predict_list[indx]])"
      ],
      "execution_count": 81,
      "outputs": [
        {
          "output_type": "stream",
          "text": [
            "the service is really fast and friendly  and the value is great  \n",
            "==> value \n",
            "==> positive\n"
          ],
          "name": "stdout"
        }
      ]
    },
    {
      "cell_type": "markdown",
      "metadata": {
        "id": "MpCX6bb2E76A"
      },
      "source": [
        "## OverSample"
      ]
    },
    {
      "cell_type": "code",
      "metadata": {
        "id": "4tZPsbOmAV47"
      },
      "source": [
        "batch_size = 64\n",
        "learning_rate = 0.01\n",
        "n_epoch = 10"
      ],
      "execution_count": null,
      "outputs": []
    },
    {
      "cell_type": "code",
      "metadata": {
        "id": "3glUFHAi8lux"
      },
      "source": [
        "data11 = X_train_padded_target1, X_train_padded1, y_train_rest11, np.full((X_train_padded1.shape[0],), 15.), np.full((X_train_padded1.shape[0],), 40.)\n",
        "data_test11 = X_test_padded_target, X_test_padded, y_test_rest1, np.full((X_test_padded.shape[0],), 15.), np.full((X_test_padded.shape[0],), 40.)"
      ],
      "execution_count": null,
      "outputs": []
    },
    {
      "cell_type": "code",
      "metadata": {
        "colab": {
          "base_uri": "https://localhost:8080/"
        },
        "id": "T52IST3BASSV",
        "outputId": "b20a03e0-4b88-4c1e-f932-7f34b34bb19a"
      },
      "source": [
        "model_2 = IAN(embeddings_matrix, embeddings_matrix_target)\n",
        "train_accuracy, test_accuracy, train_loss, test_loss = run(model_2, data11, data_test11)"
      ],
      "execution_count": null,
      "outputs": [
        {
          "output_type": "stream",
          "text": [
            "Epoch 1/10 : 60.343sec\n",
            "===============>  train-loss=1.004570; train-acc=0.527073; validation-loss=1.085873; validation-acc=0.318934\n",
            "Classwise train accuracy: [0.529 0.537 0.515]\n",
            "Classwise test accuracy: [0.282 0.642 0.242]\n",
            "Epoch 2/10 : 61.053sec\n",
            "===============>  train-loss=0.966081; train-acc=0.521504; validation-loss=0.893319; validation-acc=0.629596\n",
            "Classwise train accuracy: [0.508 0.62  0.437]\n",
            "Classwise test accuracy: [0.197 0.3   0.832]\n",
            "Epoch 3/10 : 60.321sec\n",
            "===============>  train-loss=0.887793; train-acc=0.578125; validation-loss=1.193440; validation-acc=0.311581\n",
            "Classwise train accuracy: [0.566 0.646 0.522]\n",
            "Classwise test accuracy: [0.84  0.126 0.221]\n",
            "Epoch 4/10 : 60.648sec\n",
            "===============>  train-loss=0.820310; train-acc=0.609375; validation-loss=1.072648; validation-acc=0.510110\n",
            "Classwise train accuracy: [0.605 0.671 0.552]\n",
            "Classwise test accuracy: [0.479 0.421 0.542]\n",
            "Epoch 5/10 : 60.153sec\n",
            "===============>  train-loss=0.775622; train-acc=0.634127; validation-loss=1.031303; validation-acc=0.522978\n",
            "Classwise train accuracy: [0.621 0.677 0.604]\n",
            "Classwise test accuracy: [0.303 0.547 0.575]\n",
            "Epoch 6/10 : 59.910sec\n",
            "===============>  train-loss=0.712254; train-acc=0.672030; validation-loss=0.884037; validation-acc=0.674632\n",
            "Classwise train accuracy: [0.628 0.704 0.684]\n",
            "Classwise test accuracy: [0.537 0.4   0.785]\n",
            "Epoch 7/10 : 60.147sec\n",
            "===============>  train-loss=0.658349; train-acc=0.711324; validation-loss=1.395430; validation-acc=0.455882\n",
            "Classwise train accuracy: [0.675 0.726 0.733]\n",
            "Classwise test accuracy: [0.58  0.626 0.377]\n",
            "Epoch 8/10 : 59.490sec\n",
            "===============>  train-loss=0.610490; train-acc=0.737624; validation-loss=0.890791; validation-acc=0.725184\n",
            "Classwise train accuracy: [0.715 0.752 0.746]\n",
            "Classwise test accuracy: [0.505 0.253 0.91 ]\n",
            "Epoch 9/10 : 59.837sec\n",
            "===============>  train-loss=0.534626; train-acc=0.779239; validation-loss=0.981854; validation-acc=0.714154\n",
            "Classwise train accuracy: [0.765 0.787 0.785]\n",
            "Classwise test accuracy: [0.436 0.174 0.932]\n",
            "Epoch 10/10 : 59.477sec\n",
            "===============>  train-loss=0.470144; train-acc=0.811262; validation-loss=0.898379; validation-acc=0.696691\n",
            "Classwise train accuracy: [0.81  0.811 0.813]\n",
            "Classwise test accuracy: [0.473 0.463 0.818]\n",
            "\n",
            "\n",
            "The max accuracy of testing results: acc 0.725 of epoch 8\n"
          ],
          "name": "stdout"
        }
      ]
    },
    {
      "cell_type": "code",
      "metadata": {
        "colab": {
          "base_uri": "https://localhost:8080/",
          "height": 573
        },
        "id": "ZCzFs_DsC8Xa",
        "outputId": "3e17dd3c-1107-4704-a3dc-546b641cc33b"
      },
      "source": [
        "plotting_epochs(train_accuracy, test_accuracy, 'Accuracy-Restaurant')\n",
        "plotting_epochs(train_loss, test_loss, 'Loss-Restaurant')"
      ],
      "execution_count": null,
      "outputs": [
        {
          "output_type": "display_data",
          "data": {
            "image/png": "[encoded data removed]",
            "text/plain": [
              "<Figure size 432x288 with 1 Axes>"
            ]
          },
          "metadata": {
            "tags": [],
            "needs_background": "light"
          }
        },
        {
          "output_type": "display_data",
          "data": {
            "image/png": "[encoded data removed]",
            "text/plain": [
              "<Figure size 432x288 with 1 Axes>"
            ]
          },
          "metadata": {
            "tags": [],
            "needs_background": "light"
          }
        }
      ]
    },
    {
      "cell_type": "code",
      "metadata": {
        "colab": {
          "base_uri": "https://localhost:8080/"
        },
        "id": "73mpDAxaDAsP",
        "outputId": "ad28fb2c-303f-4cea-9b7b-6b4bf87fd2c3"
      },
      "source": [
        "train_accuracy, test_accuracy, train_loss, test_loss = run(model_2, data11, data_test11)"
      ],
      "execution_count": null,
      "outputs": [
        {
          "output_type": "stream",
          "text": [
            "Epoch 1/10 : 60.083sec\n",
            "===============>  train-loss=0.471553; train-acc=0.812500; validation-loss=0.909044; validation-acc=0.681066\n",
            "Classwise train accuracy: [0.808 0.812 0.817]\n",
            "Classwise test accuracy: [0.654 0.384 0.768]\n",
            "Epoch 2/10 : 60.260sec\n",
            "===============>  train-loss=0.392923; train-acc=0.846999; validation-loss=0.907010; validation-acc=0.697610\n",
            "Classwise train accuracy: [0.844 0.854 0.843]\n",
            "Classwise test accuracy: [0.468 0.4   0.838]\n",
            "Epoch 3/10 : 60.071sec\n",
            "===============>  train-loss=0.403199; train-acc=0.843131; validation-loss=0.878649; validation-acc=0.727941\n",
            "Classwise train accuracy: [0.836 0.851 0.842]\n",
            "Classwise test accuracy: [0.585 0.379 0.859]\n",
            "Epoch 4/10 : 59.911sec\n",
            "===============>  train-loss=0.330511; train-acc=0.878094; validation-loss=1.006609; validation-acc=0.697610\n",
            "Classwise train accuracy: [0.877 0.883 0.874]\n",
            "Classwise test accuracy: [0.702 0.316 0.799]\n",
            "Epoch 5/10 : 59.969sec\n",
            "===============>  train-loss=0.306518; train-acc=0.887531; validation-loss=1.114889; validation-acc=0.720588\n",
            "Classwise train accuracy: [0.888 0.896 0.878]\n",
            "Classwise test accuracy: [0.707 0.179 0.869]\n",
            "Epoch 6/10 : 60.057sec\n",
            "===============>  train-loss=0.291204; train-acc=0.894493; validation-loss=1.089408; validation-acc=0.695772\n",
            "Classwise train accuracy: [0.895 0.899 0.889]\n",
            "Classwise test accuracy: [0.516 0.395 0.824]\n",
            "Epoch 7/10 : 59.856sec\n",
            "===============>  train-loss=0.272599; train-acc=0.904239; validation-loss=1.150361; validation-acc=0.695772\n",
            "Classwise train accuracy: [0.91  0.92  0.882]\n",
            "Classwise test accuracy: [0.686 0.342 0.793]\n",
            "Epoch 8/10 : 60.380sec\n",
            "===============>  train-loss=0.261710; train-acc=0.909035; validation-loss=1.077976; validation-acc=0.721507\n",
            "Classwise train accuracy: [0.913 0.923 0.891]\n",
            "Classwise test accuracy: [0.612 0.289 0.866]\n",
            "Epoch 9/10 : 60.488sec\n",
            "===============>  train-loss=0.249973; train-acc=0.908106; validation-loss=1.218854; validation-acc=0.685662\n",
            "Classwise train accuracy: [0.921 0.912 0.892]\n",
            "Classwise test accuracy: [0.633 0.342 0.792]\n",
            "Epoch 10/10 : 60.322sec\n",
            "===============>  train-loss=0.243618; train-acc=0.907952; validation-loss=1.070895; validation-acc=0.716912\n",
            "Classwise train accuracy: [0.912 0.922 0.89 ]\n",
            "Classwise test accuracy: [0.548 0.342 0.862]\n",
            "\n",
            "\n",
            "The max accuracy of testing results: acc 0.728 of epoch 3\n"
          ],
          "name": "stdout"
        }
      ]
    },
    {
      "cell_type": "code",
      "metadata": {
        "colab": {
          "base_uri": "https://localhost:8080/",
          "height": 573
        },
        "id": "a1VXmi6dFb5B",
        "outputId": "e633fbd3-ea84-428d-9339-09fd977969d7"
      },
      "source": [
        "plotting_epochs(train_accuracy, test_accuracy, 'Accuracy-Restaurant')\n",
        "plotting_epochs(train_loss, test_loss, 'Loss-Restaurant')"
      ],
      "execution_count": null,
      "outputs": [
        {
          "output_type": "display_data",
          "data": {
            "image/png": "[encoded data removed]",
            "text/plain": [
              "<Figure size 432x288 with 1 Axes>"
            ]
          },
          "metadata": {
            "tags": [],
            "needs_background": "light"
          }
        },
        {
          "output_type": "display_data",
          "data": {
            "image/png": "[encoded data removed]",
            "text/plain": [
              "<Figure size 432x288 with 1 Axes>"
            ]
          },
          "metadata": {
            "tags": [],
            "needs_background": "light"
          }
        }
      ]
    }
  ]
}