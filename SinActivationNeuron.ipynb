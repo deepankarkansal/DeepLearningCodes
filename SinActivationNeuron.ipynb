{
  "nbformat": 4,
  "nbformat_minor": 0,
  "metadata": {
    "colab": {
      "name": "dla1q3.ipynb",
      "provenance": [],
      "collapsed_sections": []
    },
    "kernelspec": {
      "name": "python3",
      "display_name": "Python 3"
    }
  },
  "cells": [
    {
      "cell_type": "markdown",
      "metadata": {
        "id": "YDEcphGRkxmm"
      },
      "source": [
        "Importing libraries"
      ]
    },
    {
      "cell_type": "code",
      "metadata": {
        "colab": {
          "base_uri": "https://localhost:8080/"
        },
        "id": "TFa1y9zLe4a6",
        "outputId": "20346671-e69e-4304-8a5a-13d598eea955"
      },
      "source": [
        "# from google.colab import drive\n",
        "# drive.mount('/content/drive')"
      ],
      "execution_count": null,
      "outputs": [
        {
          "output_type": "stream",
          "text": [
            "Mounted at /content/drive\n"
          ],
          "name": "stdout"
        }
      ]
    },
    {
      "cell_type": "code",
      "metadata": {
        "id": "Gexk1CnVncZ7"
      },
      "source": [
        "import pandas as pd\r\n",
        "import numpy as np\r\n",
        "import math\r\n",
        "import matplotlib.pyplot as plt\r\n",
        "import joblib"
      ],
      "execution_count": null,
      "outputs": []
    },
    {
      "cell_type": "markdown",
      "metadata": {
        "id": "sV5SnrHsku4l"
      },
      "source": [
        "Input function"
      ]
    },
    {
      "cell_type": "code",
      "metadata": {
        "id": "AN8CXsVxnrJg"
      },
      "source": [
        "x=[0,2,4,6]\r\n",
        "y=[0,1,0,1]"
      ],
      "execution_count": null,
      "outputs": []
    },
    {
      "cell_type": "markdown",
      "metadata": {
        "id": "DEJIFW1Tksxu"
      },
      "source": [
        "Perceptron"
      ]
    },
    {
      "cell_type": "code",
      "metadata": {
        "id": "RGT88nXk0QmW"
      },
      "source": [
        "class Perceptron: \r\n",
        "    def activationFun(self,x):\r\n",
        "        w=self.weights[0]\r\n",
        "        w+=np.dot(self.weights[1:],x)\r\n",
        "        return (math.sin(w))  \r\n",
        "    def fit(self,x,y,lr,epo):\r\n",
        "        self.weights=np.zeros(len(x.columns)+1)\r\n",
        "        for e in range(epo):\r\n",
        "            for r in range(len(x)):\r\n",
        "                x1=x.iloc[r]\r\n",
        "                predicted=self.activationFun(x1)\r\n",
        "                yy=int(y.iloc[r])\r\n",
        "                if(yy!=predicted) :\r\n",
        "                    error=y.iloc[r]-predicted\r\n",
        "                    self.weights[0]=self.weights[0]+lr*error\r\n",
        "                    for i in range(len(x1)):\r\n",
        "                        self.weights[i+1]=self.weights[i+1]+lr*error*x1[i]      \r\n",
        "    def weights(self):\r\n",
        "      return self.weights\r\n",
        "    def predict(self,xtest):\r\n",
        "        predicted=[]\r\n",
        "        for i in range(len(xtest)):\r\n",
        "            predicted.append(self.activationFun(xtest.iloc[i]))\r\n",
        "        p=np.array(predicted)\r\n",
        "        for i in range(len(p)):\r\n",
        "          if p[i]>0:\r\n",
        "            p[i]=1\r\n",
        "          else:\r\n",
        "            p[i]=0\r\n",
        "        return p\r\n",
        "    def findAccuracy(self,predicted,y):\r\n",
        "        correct=0\r\n",
        "        for i in range(len(predicted)):\r\n",
        "            if(predicted[i]==int(y.iloc[i])):\r\n",
        "                correct+=1\r\n",
        "        return (correct/len(predicted))"
      ],
      "execution_count": null,
      "outputs": []
    },
    {
      "cell_type": "markdown",
      "metadata": {
        "id": "PCkH8_zDknD6"
      },
      "source": [
        "Grid Search to find parameteres"
      ]
    },
    {
      "cell_type": "code",
      "metadata": {
        "colab": {
          "base_uri": "https://localhost:8080/",
          "height": 845
        },
        "id": "8ZKrSiTLYOxx",
        "outputId": "7c5eef8d-de83-4865-feb8-3e859c4865ec"
      },
      "source": [
        "p=Perceptron()\r\n",
        "xtrain=x\r\n",
        "x_test=[8,10,12,14,16,18,20]\r\n",
        "ytrain=y\r\n",
        "ytest=[0,1,0,1,0,1,0]\r\n",
        "x_train1=pd.DataFrame(xtrain)\r\n",
        "x_test1=pd.DataFrame(x_test)\r\n",
        "y_train1=pd.DataFrame(ytrain)\r\n",
        "y_test1=pd.DataFrame(ytest)\r\n",
        "epo=[10,20,30,40]\r\n",
        "lr=[0.5,0.2,0.1,0.6]\r\n",
        "for i in range(4):\r\n",
        "  for j in range(4):\r\n",
        "    p.fit(x_train1,y_train1,lr[j],epo[i])\r\n",
        "    pred=p.predict(x_test1)\r\n",
        "    print(\"Accuracy: \",p.findAccuracy(pred,y_test1),\" Learning rate : \",lr[j],\" Epochs : \",epo[i], \"Weights: \",p.weights)\r\n",
        "p.fit(x_train1,y_train1,0.2,40)\r\n",
        "pred=p.predict(x_test1)\r\n",
        "plt.plot(x_test,pred,marker='o')\r\n",
        "plt.title(\"Function on Test Input\")\r\n",
        "plt.xlabel(\"x input\")\r\n",
        "plt.ylabel(\"y=f(x)\")\r\n",
        "plt.show()\r\n",
        "p.fit(x_train1,y_train1,0.2,40)\r\n",
        "pred=p.predict(x_train1)\r\n",
        "plt.plot(xtrain,pred,marker='o')\r\n",
        "plt.title(\"Function on Train Input\")\r\n",
        "plt.xlabel(\"x input\")\r\n",
        "plt.ylabel(\"y=f(x)\")\r\n",
        "plt.show()"
      ],
      "execution_count": null,
      "outputs": [
        {
          "output_type": "stream",
          "text": [
            "Accuracy:  0.5714285714285714  Learning rate :  0.5  Epochs :  10 Weights:  [ 8.49744518 38.76228521]\n",
            "Accuracy:  0.42857142857142855  Learning rate :  0.2  Epochs :  10 Weights:  [ 1.99665761 14.76759763]\n",
            "Accuracy:  0.5714285714285714  Learning rate :  0.1  Epochs :  10 Weights:  [1.23194719 7.00969916]\n",
            "Accuracy:  1.0  Learning rate :  0.6  Epochs :  10 Weights:  [13.4719284  57.93935051]\n",
            "Accuracy:  0.5714285714285714  Learning rate :  0.5  Epochs :  20 Weights:  [15.91337903 70.17377275]\n",
            "Accuracy:  0.42857142857142855  Learning rate :  0.2  Epochs :  20 Weights:  [ 6.80610873 34.24991756]\n",
            "Accuracy:  0.5714285714285714  Learning rate :  0.1  Epochs :  20 Weights:  [ 1.62886745 10.48644763]\n",
            "Accuracy:  0.42857142857142855  Learning rate :  0.6  Epochs :  20 Weights:  [ 26.66990696 117.70275939]\n",
            "Accuracy:  0.5714285714285714  Learning rate :  0.5  Epochs :  30 Weights:  [ 23.39725872 105.6796088 ]\n",
            "Accuracy:  0.42857142857142855  Learning rate :  0.2  Epochs :  30 Weights:  [ 7.96229197 44.0441665 ]\n",
            "Accuracy:  0.5714285714285714  Learning rate :  0.1  Epochs :  30 Weights:  [ 1.36885262 10.56757595]\n",
            "Accuracy:  0.42857142857142855  Learning rate :  0.6  Epochs :  30 Weights:  [ 39.66862043 175.46939589]\n",
            "Accuracy:  0.7142857142857143  Learning rate :  0.5  Epochs :  40 Weights:  [ 33.33475726 140.8175613 ]\n",
            "Accuracy:  1.0  Learning rate :  0.2  Epochs :  40 Weights:  [11.16566044 58.10264121]\n",
            "Accuracy:  0.42857142857142855  Learning rate :  0.1  Epochs :  40 Weights:  [ 1.10396812 10.65740177]\n",
            "Accuracy:  0.42857142857142855  Learning rate :  0.6  Epochs :  40 Weights:  [ 51.17527391 224.17493379]\n"
          ],
          "name": "stdout"
        },
        {
          "output_type": "display_data",
          "data": {
            "image/png": "[encoded data removed]",
            "text/plain": [
              "<Figure size 432x288 with 1 Axes>"
            ]
          },
          "metadata": {
            "tags": [],
            "needs_background": "light"
          }
        },
        {
          "output_type": "display_data",
          "data": {
            "image/png": "[encoded data removed]",
            "text/plain": [
              "<Figure size 432x288 with 1 Axes>"
            ]
          },
          "metadata": {
            "tags": [],
            "needs_background": "light"
          }
        }
      ]
    },
    {
      "cell_type": "markdown",
      "metadata": {
        "id": "26v-1Bjm-24L"
      },
      "source": [
        "Saving model"
      ]
    },
    {
      "cell_type": "code",
      "metadata": {
        "id": "KQDg4vY3-5Eg"
      },
      "source": [
        "joblib.dump(p, '/content/drive/MyDrive/DL/Assignment-1/Q3_Model')\r\n",
        "p = joblib.load('/content/drive/MyDrive/DL/Assignment-1/Q3_Model')"
      ],
      "execution_count": null,
      "outputs": []
    }
  ]
}